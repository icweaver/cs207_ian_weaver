{
 "cells": [
  {
   "cell_type": "markdown",
   "metadata": {},
   "source": [
    "# Exercise"
   ]
  },
  {
   "cell_type": "code",
   "execution_count": 1,
   "metadata": {},
   "outputs": [
    {
     "name": "stdout",
     "output_type": "stream",
     "text": [
      "Overwriting L2_final.py\n"
     ]
    }
   ],
   "source": [
    "%%file L2_final.py\n",
    "import numpy as np\n",
    "\n",
    "def L2(v, *args):\n",
    "    \"\"\"Returns the L2 norm of v with optional weighting provided by *args[0].\n",
    "    \n",
    "    INPUTS\n",
    "    =======\n",
    "    v: list, vector or length n\n",
    "    *args: list, optional, vector weights of length n, with components w_i \n",
    "    \n",
    "    RETURNS\n",
    "    ========\n",
    "    norm: float\n",
    "        has the form norm = sqrt(v_1^2 + v_2^2 + ... + v_n^2) if no *args specified,\n",
    "        norm = sqrt((v_1*w_1)^2 + (v_2*w_2)^2 + ... + (v_n*w_n)^2), otherwise\n",
    "        \n",
    "    EXAMPLES\n",
    "    =========\n",
    "    >>> L2([3,4])\n",
    "    5.0\n",
    "    >>> round(L2([3,4], [1, 0.9]), 3)\n",
    "    4.686\n",
    "    \"\"\"\n",
    "    s = 0.0 # Initialize sum\n",
    "    if len(args) == 0: # No weight vector\n",
    "        for vi in v:\n",
    "            s += vi * vi\n",
    "    else: # Weight vector present\n",
    "        w = args[0] # Get the weight vector\n",
    "        if (len(w) != len(v)): # Check lengths of lists\n",
    "            raise ValueError(\"Length of list of weights must match length of target list.\")\n",
    "        for i, vi in enumerate(v):\n",
    "            s += w[i] * w[i] * vi * vi\n",
    "    return np.sqrt(s)"
   ]
  },
  {
   "cell_type": "markdown",
   "metadata": {},
   "source": [
    "#### Doctest"
   ]
  },
  {
   "cell_type": "code",
   "execution_count": 2,
   "metadata": {},
   "outputs": [
    {
     "name": "stdout",
     "output_type": "stream",
     "text": [
      "1 items had no tests:\n",
      "    __main__\n",
      "0 tests in 1 items.\n",
      "0 passed and 0 failed.\n",
      "Test passed.\n"
     ]
    },
    {
     "data": {
      "text/plain": [
       "TestResults(failed=0, attempted=0)"
      ]
     },
     "execution_count": 2,
     "metadata": {},
     "output_type": "execute_result"
    }
   ],
   "source": [
    "import doctest\n",
    "\n",
    "doctest.testmod(verbose=True)"
   ]
  },
  {
   "cell_type": "markdown",
   "metadata": {},
   "source": [
    "#### Pytest"
   ]
  },
  {
   "cell_type": "code",
   "execution_count": 3,
   "metadata": {},
   "outputs": [
    {
     "name": "stdout",
     "output_type": "stream",
     "text": [
      "Overwriting test_L2_final.py\n"
     ]
    }
   ],
   "source": [
    "%%file test_L2_final.py\n",
    "import pytest\n",
    "import L2_final\n",
    "\n",
    "def test_L2_types():\n",
    "    with pytest.raises(TypeError):\n",
    "        L2_final.L2([-3, 'c'])\n",
    "        \n",
    "    with pytest.raises(ValueError):\n",
    "        L2_final.L2([3, 4], [1])"
   ]
  },
  {
   "cell_type": "code",
   "execution_count": 4,
   "metadata": {},
   "outputs": [
    {
     "name": "stdout",
     "output_type": "stream",
     "text": [
      "\u001b[1m============================= test session starts ==============================\u001b[0m\n",
      "platform darwin -- Python 3.6.5, pytest-3.5.1, py-1.5.3, pluggy-0.6.0\n",
      "rootdir: /Users/mango/Dropbox/class/cs207/cs207_ian_weaver/lectures/L11, inifile:\n",
      "plugins: remotedata-0.2.1, openfiles-0.3.0, doctestplus-0.1.3, cov-2.6.0, arraydiff-0.2\n",
      "collected 2 items                                                              \u001b[0m\u001b[1m\n",
      "\n",
      "L2_final.py .\u001b[36m                                                            [ 50%]\u001b[0m\n",
      "test_L2_final.py .\u001b[36m                                                       [100%]\u001b[0m\n",
      "\n",
      "---------- coverage: platform darwin, python 3.6.5-final-0 -----------\n",
      "Name               Stmts   Miss  Cover   Missing\n",
      "------------------------------------------------\n",
      "L2_final.py           12      0   100%\n",
      "test_L2_final.py       7      0   100%\n",
      "------------------------------------------------\n",
      "TOTAL                 19      0   100%\n",
      "\n",
      "\n",
      "\u001b[32m\u001b[1m=========================== 2 passed in 0.05 seconds ===========================\u001b[0m\n"
     ]
    }
   ],
   "source": [
    "!pytest --doctest-modules --cov --cov-report term-missing"
   ]
  }
 ],
 "metadata": {
  "kernelspec": {
   "display_name": "Python 3",
   "language": "python",
   "name": "python3"
  },
  "language_info": {
   "codemirror_mode": {
    "name": "ipython",
    "version": 3
   },
   "file_extension": ".py",
   "mimetype": "text/x-python",
   "name": "python",
   "nbconvert_exporter": "python",
   "pygments_lexer": "ipython3",
   "version": "3.6.5"
  },
  "toc": {
   "colors": {
    "hover_highlight": "#DAA520",
    "navigate_num": "#fc151b",
    "navigate_text": "#92a2be",
    "running_highlight": "#FF0000",
    "selected_highlight": "#FFD700",
    "sidebar_border": "#EEEEEE",
    "wrapper_background": "#FFFFFF"
   },
   "moveMenuLeft": true,
   "nav_menu": {
    "height": "81px",
    "width": "250px"
   },
   "navigate_menu": true,
   "number_sections": false,
   "sideBar": true,
   "threshold": 4,
   "toc_cell": false,
   "toc_section_display": "block",
   "toc_window_display": false,
   "widenNotebook": false
  }
 },
 "nbformat": 4,
 "nbformat_minor": 2
}
