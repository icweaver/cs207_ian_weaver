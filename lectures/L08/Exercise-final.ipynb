{
 "cells": [
  {
   "cell_type": "markdown",
   "metadata": {},
   "source": [
    "## Part 1"
   ]
  },
  {
   "cell_type": "code",
   "execution_count": 5,
   "metadata": {},
   "outputs": [
    {
     "name": "stdout",
     "output_type": "stream",
     "text": [
      "z = 3 + 4i\n",
      "polar form: 5.0 e^(i 0.9272952180016122)\n",
      "\n",
      "z = 0 + 4i\n",
      "polar form: 4.0 e^(i 1.5707963267948966)\n",
      "\n",
      "d = 3 + 4eps\n",
      "polar form: 3 * (1 + 1.3333333333333333 epsilon)\n",
      "\n",
      "d = 0 + 4eps\n",
      "Can't compute polar form. Angle undefined when a=0\n",
      "\n"
     ]
    }
   ],
   "source": [
    "import mynumbers as m\n",
    "\n",
    "# creating complex number\n",
    "a, b = 3, 4\n",
    "z1 = m.Complex(a, b)\n",
    "print(f\"z = {a} + {b}i\")\n",
    "print(z1.polar())\n",
    "print()\n",
    "\n",
    "# trying edge case\n",
    "a, b = 0, 4\n",
    "print(f\"z = {a} + {b}i\")\n",
    "z2 = m.Complex(a, b)\n",
    "print(z2.polar())\n",
    "print()\n",
    "\n",
    "# creating dual number\n",
    "a, b = 3, 4\n",
    "print(f\"d = {a} + {b}eps\")\n",
    "d1 = m.Dual(a, b)\n",
    "print(d1.polar())\n",
    "print()\n",
    "\n",
    "# trying edge case\n",
    "a, b = 0, 4\n",
    "print(f\"d = {a} + {b}eps\")\n",
    "d2 = m.Dual(a, b)\n",
    "print(d2.polar())\n",
    "print()"
   ]
  },
  {
   "cell_type": "markdown",
   "metadata": {},
   "source": [
    "## Part 2"
   ]
  },
  {
   "cell_type": "code",
   "execution_count": 6,
   "metadata": {},
   "outputs": [],
   "source": [
    "from mynumbers_part2 import *"
   ]
  },
  {
   "cell_type": "code",
   "execution_count": 11,
   "metadata": {},
   "outputs": [
    {
     "ename": "NameError",
     "evalue": "name '_Complex' is not defined",
     "output_type": "error",
     "traceback": [
      "\u001b[0;31m---------------------------------------------------------------------------\u001b[0m",
      "\u001b[0;31mNameError\u001b[0m                                 Traceback (most recent call last)",
      "\u001b[0;32m<ipython-input-11-93bac1016e68>\u001b[0m in \u001b[0;36m<module>\u001b[0;34m()\u001b[0m\n\u001b[1;32m      1\u001b[0m \u001b[0;31m# creating complex number\u001b[0m\u001b[0;34m\u001b[0m\u001b[0;34m\u001b[0m\u001b[0m\n\u001b[1;32m      2\u001b[0m \u001b[0ma\u001b[0m\u001b[0;34m,\u001b[0m \u001b[0mb\u001b[0m \u001b[0;34m=\u001b[0m \u001b[0;36m3\u001b[0m\u001b[0;34m,\u001b[0m \u001b[0;36m4\u001b[0m\u001b[0;34m\u001b[0m\u001b[0m\n\u001b[0;32m----> 3\u001b[0;31m \u001b[0mz1\u001b[0m \u001b[0;34m=\u001b[0m \u001b[0m_Complex\u001b[0m\u001b[0;34m(\u001b[0m\u001b[0ma\u001b[0m\u001b[0;34m,\u001b[0m \u001b[0mb\u001b[0m\u001b[0;34m)\u001b[0m\u001b[0;34m\u001b[0m\u001b[0m\n\u001b[0m\u001b[1;32m      4\u001b[0m \u001b[0mprint\u001b[0m\u001b[0;34m(\u001b[0m\u001b[0;34mf\"z = {a} + {b}i\"\u001b[0m\u001b[0;34m)\u001b[0m\u001b[0;34m\u001b[0m\u001b[0m\n\u001b[1;32m      5\u001b[0m \u001b[0mprint\u001b[0m\u001b[0;34m(\u001b[0m\u001b[0mz1\u001b[0m\u001b[0;34m.\u001b[0m\u001b[0mpolar\u001b[0m\u001b[0;34m(\u001b[0m\u001b[0;34m)\u001b[0m\u001b[0;34m)\u001b[0m\u001b[0;34m\u001b[0m\u001b[0m\n",
      "\u001b[0;31mNameError\u001b[0m: name '_Complex' is not defined"
     ]
    }
   ],
   "source": [
    "# creating complex number\n",
    "a, b = 3, 4\n",
    "z1 = _Complex(a, b)\n",
    "print(f\"z = {a} + {b}i\")\n",
    "print(z1.polar())"
   ]
  },
  {
   "cell_type": "markdown",
   "metadata": {},
   "source": [
    "It looks like changing `Complex` to `_Complex` caused it to become invisible to the `import *` command. Running `dir()` verifies that the class `RealExtension` and its sublcass `Dual` are visibile, but the subclass `_Complex` is not."
   ]
  },
  {
   "cell_type": "code",
   "execution_count": 14,
   "metadata": {
    "scrolled": true
   },
   "outputs": [
    {
     "data": {
      "text/plain": [
       "['Dual',\n",
       " 'In',\n",
       " 'Out',\n",
       " 'RealExtension',\n",
       " '_',\n",
       " '_12',\n",
       " '_13',\n",
       " '__',\n",
       " '___',\n",
       " '__builtin__',\n",
       " '__builtins__',\n",
       " '__doc__',\n",
       " '__loader__',\n",
       " '__name__',\n",
       " '__package__',\n",
       " '__spec__',\n",
       " '_dh',\n",
       " '_i',\n",
       " '_i1',\n",
       " '_i10',\n",
       " '_i11',\n",
       " '_i12',\n",
       " '_i13',\n",
       " '_i14',\n",
       " '_i2',\n",
       " '_i3',\n",
       " '_i4',\n",
       " '_i5',\n",
       " '_i6',\n",
       " '_i7',\n",
       " '_i8',\n",
       " '_i9',\n",
       " '_ih',\n",
       " '_ii',\n",
       " '_iii',\n",
       " '_oh',\n",
       " 'a',\n",
       " 'b',\n",
       " 'd1',\n",
       " 'd2',\n",
       " 'exit',\n",
       " 'get_ipython',\n",
       " 'm',\n",
       " 'np',\n",
       " 'quit',\n",
       " 'z1',\n",
       " 'z2']"
      ]
     },
     "execution_count": 14,
     "metadata": {},
     "output_type": "execute_result"
    }
   ],
   "source": [
    "dir()"
   ]
  },
  {
   "cell_type": "markdown",
   "metadata": {},
   "source": [
    "## Part 3"
   ]
  },
  {
   "cell_type": "markdown",
   "metadata": {},
   "source": [
    "Name mangling could be useful when you want to import module `A` and module `B`, but don't want a method from module `B` to conflict with module `A` if they happen to have the same name. I guess this wouldn't be an issued if you just did `A.<method_name>` and `B.<method_name>` instead of `<method_name>`, but idk."
   ]
  }
 ],
 "metadata": {
  "kernelspec": {
   "display_name": "Python 3",
   "language": "python",
   "name": "python3"
  },
  "language_info": {
   "codemirror_mode": {
    "name": "ipython",
    "version": 3
   },
   "file_extension": ".py",
   "mimetype": "text/x-python",
   "name": "python",
   "nbconvert_exporter": "python",
   "pygments_lexer": "ipython3",
   "version": "3.6.5"
  },
  "toc": {
   "colors": {
    "hover_highlight": "#DAA520",
    "navigate_num": "#fc151b",
    "navigate_text": "#92a2be",
    "running_highlight": "#FF0000",
    "selected_highlight": "#FFD700",
    "sidebar_border": "#EEEEEE",
    "wrapper_background": "#FFFFFF"
   },
   "moveMenuLeft": true,
   "nav_menu": {
    "height": "0px",
    "width": "250px"
   },
   "navigate_menu": true,
   "number_sections": false,
   "sideBar": true,
   "threshold": 4,
   "toc_cell": false,
   "toc_section_display": "block",
   "toc_window_display": false,
   "widenNotebook": false
  }
 },
 "nbformat": 4,
 "nbformat_minor": 2
}
