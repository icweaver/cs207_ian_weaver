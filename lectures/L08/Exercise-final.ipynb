{
 "cells": [
  {
   "cell_type": "code",
   "execution_count": 131,
   "metadata": {},
   "outputs": [],
   "source": [
    "import numpy as np\n",
    "\n",
    "class RealExtension():\n",
    "    def __init__(self, a, b):\n",
    "        self.a = a\n",
    "        self.b = b\n",
    "        \n",
    "class Complex(RealExtension):        \n",
    "    def _magnitude(self):\n",
    "        return np.sqrt(self.a**2 + self.b**2)\n",
    "    \n",
    "    def _angle(self):\n",
    "        return np.arctan2(self.b, self.a)\n",
    "    \n",
    "    def polar(self):\n",
    "        z, theta = self._magnitude(), self._angle()\n",
    "        print(f\"polar form: {z} e^(i {theta})\")\n",
    "        \n",
    "class Dual(RealExtension):\n",
    "    def _magnitude(self):\n",
    "        return np.abs(self.a)\n",
    "    \n",
    "    def _angle(self):\n",
    "        return self.b/self.a\n",
    "    \n",
    "    def polar(self):\n",
    "        mag, theta = self._magnitude(), self._angle()\n",
    "        print(f\"polar form: {mag} * (1 + {theta} epsilon)\")"
   ]
  },
  {
   "cell_type": "code",
   "execution_count": 132,
   "metadata": {},
   "outputs": [
    {
     "name": "stdout",
     "output_type": "stream",
     "text": [
      "polar form: 1 * (1 + 2.0 epsilon)\n"
     ]
    }
   ],
   "source": [
    "z = Dual(1, 2)\n",
    "z.polar()"
   ]
  }
 ],
 "metadata": {
  "kernelspec": {
   "display_name": "Python 3",
   "language": "python",
   "name": "python3"
  },
  "language_info": {
   "codemirror_mode": {
    "name": "ipython",
    "version": 3
   },
   "file_extension": ".py",
   "mimetype": "text/x-python",
   "name": "python",
   "nbconvert_exporter": "python",
   "pygments_lexer": "ipython3",
   "version": "3.6.5"
  },
  "toc": {
   "colors": {
    "hover_highlight": "#DAA520",
    "navigate_num": "#fc151b",
    "navigate_text": "#92a2be",
    "running_highlight": "#FF0000",
    "selected_highlight": "#FFD700",
    "sidebar_border": "#EEEEEE",
    "wrapper_background": "#FFFFFF"
   },
   "moveMenuLeft": true,
   "nav_menu": {
    "height": "0px",
    "width": "250px"
   },
   "navigate_menu": true,
   "number_sections": false,
   "sideBar": true,
   "threshold": 4,
   "toc_cell": false,
   "toc_section_display": "block",
   "toc_window_display": false,
   "widenNotebook": false
  }
 },
 "nbformat": 4,
 "nbformat_minor": 2
}
