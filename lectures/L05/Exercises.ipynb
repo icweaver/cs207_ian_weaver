{
 "cells": [
  {
   "cell_type": "markdown",
   "metadata": {},
   "source": [
    "# Exercise 1\n",
    "\n",
    "Write a `Circle` class.\n",
    "\n",
    "#### Background\n",
    "The equation of a circle centered at the point $\\displaystyle \\left(x_{c}, y_{c}\\right)$ is given by \n",
    "\\begin{align}\n",
    "  \\left(x - x_{c}\\right)^{2} + \\left(y - y_{c}\\right)^{2} = r^{2}\n",
    "\\end{align}\n",
    "where $r$ is the radius of the circle.\n",
    "\n",
    "#### Requirements:\n",
    "* An instance of the `Circle` class should be initialized with two points: $\\left(x_{c}, y_{c}\\right)$ and $\\left(x, y\\right)$.  The first point is the point at which the circle is centered and the second point is any point that the circle should pass through.\n",
    "* You must include the initializer constructor (`__init__`).\n",
    "* Include methods to compute the radius, area, and circumference of the circle\n",
    "* Demo your `Circle` class\n",
    "\n",
    "#### Comments\n",
    "- You can write the class however you want, as long as it follows the interface outlined above.  For example, you could pass the points in as `tuples` or a `list` or a bunch of `scalars` or something else entirely.\n",
    "- You should test for and handle exceptions where necessary."
   ]
  },
  {
   "cell_type": "markdown",
   "metadata": {},
   "source": [
    "## Work"
   ]
  },
  {
   "cell_type": "code",
   "execution_count": 1,
   "metadata": {},
   "outputs": [],
   "source": [
    "import numpy as np\n",
    "\n",
    "class CircleClass():\n",
    "\n",
    "    def __init__(self, center, edge):\n",
    "        self.xc, self.yc = center # center of circle\n",
    "        self.x, self.y = edge # point on edge of circle\n",
    "        self.r = self.radius() # radius to be used in other functions\n",
    "        \n",
    "    def radius(self):\n",
    "        dx = self.x - self.xc\n",
    "        dy = self.y - self.yc\n",
    "        r = np.sqrt(dx**2 + dy**2)\n",
    "        return r\n",
    "        \n",
    "    def area(self):\n",
    "        return np.pi*self.r**2\n",
    "    \n",
    "    def circumf(self):\n",
    "        return 2*np.pi*self.r"
   ]
  },
  {
   "cell_type": "markdown",
   "metadata": {},
   "source": [
    "###### Print stats"
   ]
  },
  {
   "cell_type": "code",
   "execution_count": 2,
   "metadata": {},
   "outputs": [
    {
     "name": "stdout",
     "output_type": "stream",
     "text": [
      "Radius: 1.0000\n",
      "Area: 3.1416\n",
      "Circumference: 6.2832\n"
     ]
    }
   ],
   "source": [
    "import sys\n",
    "\n",
    "# User defined circle\n",
    "cen = (0, 0) # center coords\n",
    "edg = (1, 0) # edge coords\n",
    "\n",
    "# Create a class\n",
    "try:\n",
    "    circ = CircleClass(cen, edg)\n",
    "except TypeError:\n",
    "    print(\"Error: Make sure both circle center and point on edge \" \n",
    "          \"are given\")\n",
    "    sys.exit()\n",
    "\n",
    "# print stats\n",
    "r, a, c = circ.radius(), circ.area(), circ.circumf()\n",
    "print(f\"Radius: {r:.4f}\\n\"\n",
    "      f\"Area: {a:.4f}\\n\"\n",
    "      f\"Circumference: {c:.4f}\"\n",
    ")"
   ]
  }
 ],
 "metadata": {
  "kernelspec": {
   "display_name": "Python 3",
   "language": "python",
   "name": "python3"
  },
  "language_info": {
   "codemirror_mode": {
    "name": "ipython",
    "version": 3
   },
   "file_extension": ".py",
   "mimetype": "text/x-python",
   "name": "python",
   "nbconvert_exporter": "python",
   "pygments_lexer": "ipython3",
   "version": "3.6.5"
  },
  "toc": {
   "colors": {
    "hover_highlight": "#DAA520",
    "navigate_num": "#fc151b",
    "navigate_text": "#92a2be",
    "running_highlight": "#FF0000",
    "selected_highlight": "#FFD700",
    "sidebar_border": "#EEEEEE",
    "wrapper_background": "#FFFFFF"
   },
   "moveMenuLeft": true,
   "nav_menu": {
    "height": "90px",
    "width": "250px"
   },
   "navigate_menu": true,
   "number_sections": false,
   "sideBar": true,
   "threshold": 4,
   "toc_cell": false,
   "toc_section_display": "block",
   "toc_window_display": false,
   "widenNotebook": false
  }
 },
 "nbformat": 4,
 "nbformat_minor": 2
}
