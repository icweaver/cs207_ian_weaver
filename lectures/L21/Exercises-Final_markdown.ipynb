{
 "cells": [
  {
   "cell_type": "markdown",
   "metadata": {},
   "source": [
    "# Left join B into A"
   ]
  },
  {
   "cell_type": "markdown",
   "metadata": {},
   "source": [
    "na   | A.attr | nB | B.attr\n",
    "-----|--------|----|-------\n",
    "s1   | 23     | t1 | 60\n",
    "s2   | 7      | t3 | 22\n",
    "s3   | 15     | t3 | 22\n",
    "s4   | 31     | t1 | 60"
   ]
  },
  {
   "cell_type": "markdown",
   "metadata": {},
   "source": [
    "# Left join A into B"
   ]
  },
  {
   "cell_type": "markdown",
   "metadata": {},
   "source": [
    "na     | A.attr | nB | B.attr\n",
    "-------|--------|----|-------\n",
    "s1     | 23     | t1 | 60\n",
    "s4     | 31     | t1 | 60\n",
    "None   | None   | t2 | 14\n",
    "s2     | 7      | t3 | 22\n",
    "s3     | 15     | t3 | 22"
   ]
  }
 ],
 "metadata": {
  "kernelspec": {
   "display_name": "Python 3",
   "language": "python",
   "name": "python3"
  },
  "language_info": {
   "codemirror_mode": {
    "name": "ipython",
    "version": 3
   },
   "file_extension": ".py",
   "mimetype": "text/x-python",
   "name": "python",
   "nbconvert_exporter": "python",
   "pygments_lexer": "ipython3",
   "version": "3.6.5"
  },
  "toc": {
   "colors": {
    "hover_highlight": "#DAA520",
    "navigate_num": "#fc151b",
    "navigate_text": "#92a2be",
    "running_highlight": "#FF0000",
    "selected_highlight": "#FFD700",
    "sidebar_border": "#EEEEEE",
    "wrapper_background": "#FFFFFF"
   },
   "moveMenuLeft": true,
   "nav_menu": {
    "height": "36px",
    "width": "250px"
   },
   "navigate_menu": true,
   "number_sections": false,
   "sideBar": true,
   "threshold": 4,
   "toc_cell": false,
   "toc_section_display": "block",
   "toc_window_display": false,
   "widenNotebook": false
  }
 },
 "nbformat": 4,
 "nbformat_minor": 2
}
