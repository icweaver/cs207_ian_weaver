{
 "cells": [
  {
   "cell_type": "markdown",
   "metadata": {},
   "source": [
    "# Exercise"
   ]
  },
  {
   "cell_type": "code",
   "execution_count": 1,
   "metadata": {},
   "outputs": [],
   "source": [
    "import numpy as np\n",
    "import sqlite3"
   ]
  },
  {
   "cell_type": "markdown",
   "metadata": {},
   "source": [
    "## Load data"
   ]
  },
  {
   "cell_type": "code",
   "execution_count": 2,
   "metadata": {},
   "outputs": [],
   "source": [
    "with open('./candidates.txt', 'r') as f:\n",
    "    data = f.read().split('\\n')"
   ]
  },
  {
   "cell_type": "markdown",
   "metadata": {},
   "source": [
    "## Initialize Table"
   ]
  },
  {
   "cell_type": "code",
   "execution_count": 3,
   "metadata": {},
   "outputs": [],
   "source": [
    "db = sqlite3.connect('test_db.sqlite')\n",
    "cursor = db.cursor()\n",
    "cursor.execute(\"DROP TABLE IF EXISTS candidates\") # Convenient in case you want to start over\n",
    "cursor.execute(\"DROP TABLE IF EXISTS contributors\") # Convenient in case you want to start over\n",
    "\n",
    "# This strange command turns on FOREIGN KEY support in SQLite.\n",
    "# By default, this support is off.\n",
    "# We'll talk about foreign keys later on.  Just setting things up here.\n",
    "cursor.execute(\"PRAGMA foreign_keys=1\")\n",
    "\n",
    "cursor.execute('''CREATE TABLE candidates (\n",
    "               id INTEGER PRIMARY KEY NOT NULL, \n",
    "               first_name TEXT, \n",
    "               last_name TEXT, \n",
    "               middle_init TEXT, \n",
    "               party TEXT NOT NULL)''')\n",
    "\n",
    "db.commit() # Commit changes to the database"
   ]
  },
  {
   "cell_type": "markdown",
   "metadata": {},
   "source": [
    "## Insert data into table"
   ]
  },
  {
   "cell_type": "code",
   "execution_count": 4,
   "metadata": {},
   "outputs": [],
   "source": [
    "for candidate in data[1:-1]:\n",
    "    id_num, first, last, middle, party = candidate.split('|')\n",
    "    # insert data into table\n",
    "    cursor.execute('''INSERT INTO candidates\n",
    "               (id, first_name, last_name, middle_init, party)\n",
    "               VALUES (?, ?, ?, ?, ?)''', \n",
    "                (id_num, first, last, middle, party))\n",
    "    db.commit()"
   ]
  },
  {
   "cell_type": "markdown",
   "metadata": {},
   "source": [
    "## View table"
   ]
  },
  {
   "cell_type": "code",
   "execution_count": 5,
   "metadata": {},
   "outputs": [
    {
     "name": "stdout",
     "output_type": "stream",
     "text": [
      "(16, 'Mike', 'Huckabee', '', 'R')\n",
      "(20, 'Barack', 'Obama', '', 'D')\n",
      "(22, 'Rudolph', 'Giuliani', '', 'R')\n",
      "(24, 'Mike', 'Gravel', '', 'D')\n",
      "(26, 'John', 'Edwards', '', 'D')\n",
      "(29, 'Bill', 'Richardson', '', 'D')\n",
      "(30, 'Duncan', 'Hunter', '', 'R')\n",
      "(31, 'Dennis', 'Kucinich', '', 'D')\n",
      "(32, 'Ron', 'Paul', '', 'R')\n",
      "(33, 'Joseph', 'Biden', '', 'D')\n",
      "(34, 'Hillary', 'Clinton', 'R.', 'D')\n",
      "(35, 'Mitt', 'Romney', '', 'R')\n",
      "(36, 'Samuel', 'Brownback', '', 'R')\n",
      "(37, 'John', 'McCain', '', 'R')\n",
      "(38, 'Tom', 'Tancredo', '', 'R')\n",
      "(39, 'Christopher', 'Dodd', 'J.', 'D')\n",
      "(41, 'Fred', 'Thompson', 'D.', 'R')\n"
     ]
    }
   ],
   "source": [
    "cursor.execute(\"SELECT * FROM candidates\")\n",
    "all_rows = cursor.fetchall()\n",
    "for row in all_rows: print(row)"
   ]
  }
 ],
 "metadata": {
  "kernelspec": {
   "display_name": "Python 3",
   "language": "python",
   "name": "python3"
  },
  "language_info": {
   "codemirror_mode": {
    "name": "ipython",
    "version": 3
   },
   "file_extension": ".py",
   "mimetype": "text/x-python",
   "name": "python",
   "nbconvert_exporter": "python",
   "pygments_lexer": "ipython3",
   "version": "3.6.5"
  },
  "toc": {
   "colors": {
    "hover_highlight": "#DAA520",
    "navigate_num": "#fc151b",
    "navigate_text": "#92a2be",
    "running_highlight": "#FF0000",
    "selected_highlight": "#FFD700",
    "sidebar_border": "#EEEEEE",
    "wrapper_background": "#FFFFFF"
   },
   "moveMenuLeft": true,
   "nav_menu": {
    "height": "108px",
    "width": "250px"
   },
   "navigate_menu": true,
   "number_sections": false,
   "sideBar": true,
   "threshold": 4,
   "toc_cell": false,
   "toc_section_display": "block",
   "toc_window_display": false,
   "widenNotebook": false
  }
 },
 "nbformat": 4,
 "nbformat_minor": 2
}
