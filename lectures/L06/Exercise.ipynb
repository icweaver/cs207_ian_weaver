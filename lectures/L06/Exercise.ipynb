{
 "cells": [
  {
   "cell_type": "markdown",
   "metadata": {},
   "source": [
    "# Exercise 1\n",
    "Last lecture, you wrote a class to create circles from two points:  the circle center and another point on the circle.  Of course, someone might want to create a circle simply by providing the radius and no coordinate information.  They should still be able to do all the same calculations as before (area and circumference.\n",
    "\n",
    "You will provide this functionality by writing a subclass called `Rcircle` of the superclass `Circle`.\n",
    "\n",
    "####  Requirements\n",
    "* Must inherit from `Circle`\n",
    "* Must have it's own constructor.  The constructor accepts the circle radius supplied by the user as its argument.  That is `__init__(self, r)`.\n",
    "* The circle radius must be set in the constructor\n",
    "* The `Rcircle` subclass must reimplement the `radius` function.  It does not make sense for `Rcircle` to inherit the `radius` method from `Circle` since an instance of `Rcircle` doesn't know anything about the coordinates of the circle.\n",
    "* Include the `__eq__` special method to compare two circles.\n",
    "\n",
    "Demo your class.\n",
    "\n",
    "#### Bonus\n",
    "Feel free to play with some of the other *dunder* methods.  For example, it might be fun to add two circles (you get to define what that means!).  Be careful with `__add__`; you'll need to look into using `__radd__` as well.  \n",
    "\n",
    "What other dunder methods would make sense?"
   ]
  },
  {
   "cell_type": "markdown",
   "metadata": {},
   "source": [
    "Your `Circle` class from last time should have looked something like this:"
   ]
  },
  {
   "cell_type": "markdown",
   "metadata": {
    "collapsed": true
   },
   "source": [
    "```python\n",
    "class Circle:\n",
    "    '''A class for circles\n",
    "      Constructor is initialized with two tuples, one for the center of the circle\n",
    "      and the other for a point on the circle.\n",
    "      \n",
    "      Methods include radius, area, and circum.  None of these methods accept any arguments.\n",
    "      \n",
    "      The user is not required to pre-compute the radius of the circle.  Exception testing is \n",
    "      done in area and circum to check for a circle radius.  If it doesn't exist, a radius is \n",
    "      computed.\n",
    "    '''\n",
    "    \n",
    "    def __init__(self, center, point):\n",
    "        self.xc = center[0]\n",
    "        self.yc = center[1]\n",
    "        self.x = point[0]\n",
    "        self.y = point[1]\n",
    "    \n",
    "    def radius(self):\n",
    "        x = self.x - self.xc\n",
    "        y = self.y - self.yc\n",
    "        self.R = np.sqrt(x * x + y * y)\n",
    "    \n",
    "    def area(self):\n",
    "        try:\n",
    "            self.A = np.pi * self.R* self.R\n",
    "        except AttributeError:\n",
    "            x = self.x - self.xc\n",
    "            y = self.y - self.yc\n",
    "            r = np.sqrt(x * x + y * y)\n",
    "            self.R = r\n",
    "            self.A = np.pi * r * r\n",
    "    \n",
    "    def circum(self):\n",
    "        try:\n",
    "            self.C =  2.0 * np.pi * self.R\n",
    "        except AttributeError:\n",
    "            x = self.x - self.xc\n",
    "            y = self.y - self.yc\n",
    "            r = np.sqrt(x * x + y * y)\n",
    "            self.R = r\n",
    "            self.C = 2.0 * np.pi * r\n",
    "```"
   ]
  },
  {
   "cell_type": "markdown",
   "metadata": {},
   "source": [
    "# Solution"
   ]
  },
  {
   "cell_type": "code",
   "execution_count": 1,
   "metadata": {},
   "outputs": [],
   "source": [
    "import numpy as np\n",
    "\n",
    "class CircleClass():\n",
    "\n",
    "    def __init__(self, center, edge):\n",
    "        self.xc, self.yc = center # center of circle\n",
    "        self.x, self.y = edge # point on edge of circle\n",
    "        self.R = self.radius() # to avoid re-running radius()\n",
    "        \n",
    "    def radius(self):\n",
    "        dx = self.x - self.xc\n",
    "        dy = self.y - self.yc\n",
    "        return np.sqrt(dx**2 + dy**2) \n",
    "        \n",
    "    def area(self):\n",
    "         return np.pi*self.R**2\n",
    "    \n",
    "    def circumf(self):\n",
    "        return 2*np.pi*self.R\n",
    "    \n",
    "    def __add__(self, other):\n",
    "        return self.area() + other.area()\n",
    "    \n",
    "# subclass\n",
    "class Rcircle(CircleClass):\n",
    "    \n",
    "    def __init__(self, radius):\n",
    "        self.R = radius\n",
    "        \n",
    "    def radius(self): # uses own radius instead of super class'\n",
    "        return self.R\n",
    "    \n",
    "    def __eq__(self, other):\n",
    "        return self.R == other.R"
   ]
  },
  {
   "cell_type": "markdown",
   "metadata": {},
   "source": [
    "###### Trying it out"
   ]
  },
  {
   "cell_type": "code",
   "execution_count": 2,
   "metadata": {
    "scrolled": false
   },
   "outputs": [
    {
     "name": "stdout",
     "output_type": "stream",
     "text": [
      "<class '__main__.Rcircle'>\n",
      "---------------------------------\n",
      "radius: 5.0\n",
      "area: 78.53981633974483\n",
      "circumference: 31.41592653589793\n",
      "\n",
      "<class '__main__.CircleClass'>\n",
      "---------------------------------\n",
      "radius: 5.0\n",
      "area: 78.53981633974483\n",
      "circumference: 31.41592653589793\n",
      "\n",
      "Comparison\n",
      "---------------------------------\n",
      "Radii are the same (True/False): True\n",
      "Area sum: 157.07963267948966\n"
     ]
    }
   ],
   "source": [
    "# first circle (using subclass)\n",
    "r = 5.\n",
    "c1 = Rcircle(r)\n",
    "\n",
    "# second circle (using superclass)\n",
    "x = (3, 0)\n",
    "y = (0, 4)\n",
    "c2 = CircleClass(x, y)\n",
    "\n",
    "# print stats:\n",
    "for c in [c1, c2]:\n",
    "    print(\n",
    "        f\"{type(c)}\\n\"\n",
    "        \"---------------------------------\\n\"\n",
    "        f\"radius: {c.radius()}\\n\"\n",
    "        f\"area: {c.area()}\\n\"\n",
    "        f\"circumference: {c.circumf()}\\n\"\n",
    "    )\n",
    "\n",
    "print(\"Comparison\\n---------------------------------\")\n",
    "# compare their radii\n",
    "radii_same = (c1 == c2)\n",
    "print(f\"Radii are the same (True/False): {radii_same}\")\n",
    "\n",
    "# add their areas\n",
    "area_sum = c1 + c2\n",
    "print(f\"Area sum: {area_sum}\")"
   ]
  }
 ],
 "metadata": {
  "kernelspec": {
   "display_name": "Python 3",
   "language": "python",
   "name": "python3"
  },
  "language_info": {
   "codemirror_mode": {
    "name": "ipython",
    "version": 3
   },
   "file_extension": ".py",
   "mimetype": "text/x-python",
   "name": "python",
   "nbconvert_exporter": "python",
   "pygments_lexer": "ipython3",
   "version": "3.6.5"
  },
  "toc": {
   "colors": {
    "hover_highlight": "#DAA520",
    "navigate_num": "#fc151b",
    "navigate_text": "#92a2be",
    "running_highlight": "#FF0000",
    "selected_highlight": "#FFD700",
    "sidebar_border": "#EEEEEE",
    "wrapper_background": "#FFFFFF"
   },
   "moveMenuLeft": true,
   "nav_menu": {
    "height": "72px",
    "width": "250px"
   },
   "navigate_menu": true,
   "number_sections": false,
   "sideBar": true,
   "threshold": 4,
   "toc_cell": false,
   "toc_section_display": "block",
   "toc_window_display": false,
   "widenNotebook": false
  }
 },
 "nbformat": 4,
 "nbformat_minor": 2
}
