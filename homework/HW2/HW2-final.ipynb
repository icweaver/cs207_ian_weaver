{
 "cells": [
  {
   "cell_type": "markdown",
   "metadata": {},
   "source": [
    "# HW2"
   ]
  },
  {
   "cell_type": "markdown",
   "metadata": {},
   "source": [
    "## Part 1 [10 pts]: Get Familiar with GitHub"
   ]
  },
  {
   "cell_type": "markdown",
   "metadata": {},
   "source": [
    "### Problem 1 [5 pts]:  Git and recovering from a mistake"
   ]
  },
  {
   "cell_type": "markdown",
   "metadata": {},
   "source": [
    "Cloning the repo"
   ]
  },
  {
   "cell_type": "code",
   "execution_count": null,
   "metadata": {},
   "outputs": [],
   "source": [
    "%%bash\n",
    "cd /tmp\n",
    "git clone git@github.com:icweaver/playground.git"
   ]
  },
  {
   "cell_type": "markdown",
   "metadata": {},
   "source": [
    "Accidentally pull down `mybranch1` "
   ]
  },
  {
   "cell_type": "code",
   "execution_count": null,
   "metadata": {},
   "outputs": [],
   "source": [
    "%%bash\n",
    "cd /tmp/playground/\n",
    "git pull origin mybranch1\n",
    "ls"
   ]
  },
  {
   "cell_type": "markdown",
   "metadata": {},
   "source": [
    "Yep, we have a problem"
   ]
  },
  {
   "cell_type": "code",
   "execution_count": null,
   "metadata": {},
   "outputs": [],
   "source": [
    "%%bash\n",
    "cd /tmp/playground/\n",
    "git status"
   ]
  },
  {
   "cell_type": "markdown",
   "metadata": {},
   "source": [
    "Let's fix it by resetting"
   ]
  },
  {
   "cell_type": "code",
   "execution_count": null,
   "metadata": {},
   "outputs": [],
   "source": [
    "%%bash\n",
    "cd /tmp/playground/\n",
    "git reset --hard origin/master\n",
    "ls"
   ]
  },
  {
   "cell_type": "markdown",
   "metadata": {},
   "source": [
    "Let's just double check that everything is all good"
   ]
  },
  {
   "cell_type": "code",
   "execution_count": null,
   "metadata": {},
   "outputs": [],
   "source": [
    "%%bash\n",
    "cd /tmp/playground/\n",
    "git status"
   ]
  },
  {
   "cell_type": "markdown",
   "metadata": {
    "heading_collapsed": true
   },
   "source": [
    "### Problem 2 [5 pts]:  Git and checking out a single file"
   ]
  },
  {
   "cell_type": "markdown",
   "metadata": {
    "hidden": true
   },
   "source": [
    "Add and fetch from master branch on `course`"
   ]
  },
  {
   "cell_type": "code",
   "execution_count": null,
   "metadata": {
    "hidden": true
   },
   "outputs": [],
   "source": [
    "%%bash\n",
    "cd /tmp/playground/\n",
    "git remote add course https://github.com/IACS-CS-207/playground.git\n",
    "git fetch course"
   ]
  },
  {
   "cell_type": "markdown",
   "metadata": {
    "hidden": true
   },
   "source": [
    "Now let's checkout just the `README` from `course`"
   ]
  },
  {
   "cell_type": "code",
   "execution_count": null,
   "metadata": {
    "hidden": true
   },
   "outputs": [],
   "source": [
    "%%bash\n",
    "cd /tmp/playground/\n",
    "git checkout course/master -- README.md\n",
    "cat README.md"
   ]
  },
  {
   "cell_type": "markdown",
   "metadata": {
    "hidden": true
   },
   "source": [
    "Now commit and push to local repo"
   ]
  },
  {
   "cell_type": "code",
   "execution_count": null,
   "metadata": {
    "hidden": true
   },
   "outputs": [],
   "source": [
    "%%bash\n",
    "cd /tmp/playground/\n",
    "git status\n",
    "git add README.md # has it been updated yet?\n",
    "git commit -m 'adding README from course to local repo'\n",
    "git status\n",
    "# git push -u origin master"
   ]
  },
  {
   "cell_type": "markdown",
   "metadata": {},
   "source": [
    "## Part 2 [20 pts]: Python Basics"
   ]
  },
  {
   "cell_type": "markdown",
   "metadata": {},
   "source": [
    "### Problem 3 [10 pts]: Count and Plot"
   ]
  },
  {
   "cell_type": "code",
   "execution_count": null,
   "metadata": {},
   "outputs": [],
   "source": [
    "import matplotlib.pyplot as plt\n",
    "import seaborn as sns\n",
    "import collections\n",
    "\n",
    "%matplotlib inline\n",
    "%config InlineBackend.figure_format = 'retina'"
   ]
  },
  {
   "cell_type": "markdown",
   "metadata": {},
   "source": [
    "Read in `languages.txt`"
   ]
  },
  {
   "cell_type": "code",
   "execution_count": null,
   "metadata": {},
   "outputs": [],
   "source": [
    "# read in file, split and count languages\n",
    "with open('languages.txt') as f:\n",
    "    read_data = f.read().split()\n",
    "\n",
    "# save in Counter object\n",
    "langs = collections.Counter(read_data)\n",
    "\n",
    "# format and print language stats\n",
    "for lang_name, lang_count in langs.items():\n",
    "    print(f'{lang_name}: {lang_count}')"
   ]
  },
  {
   "cell_type": "markdown",
   "metadata": {},
   "source": [
    "Stats plot"
   ]
  },
  {
   "cell_type": "code",
   "execution_count": null,
   "metadata": {},
   "outputs": [],
   "source": [
    "sns.set_style('darkgrid') # to prettify matplotlib\n",
    "\n",
    "# extract languange names and counts from langs dict\n",
    "x_coords, freqs = langs.keys(), langs.values()\n",
    "\n",
    "# display frequency plot\n",
    "plt.bar(x_coords, freqs)\n",
    "plt.xlabel('languages')\n",
    "plt.ylabel('counts')\n",
    "plt.show()"
   ]
  },
  {
   "cell_type": "markdown",
   "metadata": {},
   "source": [
    "### Problem 4 [10 pts]: Average Area of the Circles (Part 1)"
   ]
  },
  {
   "cell_type": "code",
   "execution_count": null,
   "metadata": {},
   "outputs": [],
   "source": [
    "# read in circles.dat\n",
    "with open('circles.txt') as f:\n",
    "    read_data = f.read().split()\n",
    "\n",
    "# convert strings to floats using some list comprehension \n",
    "read_data = [float(i) for i in read_data]"
   ]
  },
  {
   "cell_type": "code",
   "execution_count": null,
   "metadata": {},
   "outputs": [],
   "source": [
    "pi = 3.14159265359\n",
    "def area_circ(radii):\n",
    "    # returns list of computed areas or circle \n",
    "    # given list of radii\n",
    "    return [pi * r**2 for r in radii]"
   ]
  },
  {
   "cell_type": "code",
   "execution_count": null,
   "metadata": {},
   "outputs": [],
   "source": [
    "def myave(radii, avg_func):\n",
    "    areas = avg_func(radii) # compute list of areas\n",
    "    avg = sum(areas) / len(areas)\n",
    "    return avg"
   ]
  },
  {
   "cell_type": "code",
   "execution_count": null,
   "metadata": {},
   "outputs": [],
   "source": [
    "# display average area\n",
    "print(f'average area: {myave(read_data, area_circ)} units^2')"
   ]
  },
  {
   "cell_type": "markdown",
   "metadata": {},
   "source": [
    "## Part 3 [30 pts]: Closures and Decorators"
   ]
  },
  {
   "cell_type": "markdown",
   "metadata": {},
   "source": [
    "### Problem 5 [10 pts]: Simple Bank Account Withdraw System"
   ]
  },
  {
   "cell_type": "markdown",
   "metadata": {},
   "source": [
    "#### Part a"
   ]
  },
  {
   "cell_type": "code",
   "execution_count": null,
   "metadata": {},
   "outputs": [],
   "source": [
    "def make_withdraw(balance):\n",
    "    def update_balance(debit):\n",
    "        # some placeholder for the new balance for now.\n",
    "        if debit <= 100:\n",
    "            balance = 42 \n",
    "            print(f\"New balance: {balance}\")\n",
    "        else:\n",
    "            print(\"Please enter a withdrawl amount less than or equal to \\\n",
    "                   your current balance.\")\n",
    "    return update_balance\n",
    "\n",
    "init_balance = 500 # initial balance\n",
    "withdraw_amount = 100 # amount to withdraw\n",
    "\n",
    "wd = make_withdraw(init_balance)\n",
    "wd(withdraw_amount)"
   ]
  },
  {
   "cell_type": "markdown",
   "metadata": {},
   "source": [
    "This does not behave correctly because I have not implemented a withdrawal from the initial balance yet."
   ]
  },
  {
   "cell_type": "markdown",
   "metadata": {},
   "source": [
    "#### Part b"
   ]
  },
  {
   "cell_type": "code",
   "execution_count": null,
   "metadata": {},
   "outputs": [],
   "source": [
    "def make_withdraw(balance):\n",
    "    def update_balance(debit):\n",
    "        if debit <= balance:\n",
    "            balance -= debit\n",
    "            print(f\"New balance: {balance}\")\n",
    "        else:\n",
    "            print(\"Please enter a withdrawl amount less than or equal to \\\n",
    "                   your current balance.\")\n",
    "    return update_balance\n",
    "\n",
    "init_balance = 500 # initial balance\n",
    "withdraw_amount = 100 # amount to withdraw\n",
    "\n",
    "wd = make_withdraw(init_balance)\n",
    "wd(withdraw_amount)"
   ]
  },
  {
   "cell_type": "markdown",
   "metadata": {},
   "source": [
    "This doesn't work because update_balance is trying to use the variable `balance` which is outside of its scope. We need to let Python know that it is a nonlocal variable in the next section."
   ]
  },
  {
   "cell_type": "markdown",
   "metadata": {},
   "source": [
    "#### Part c"
   ]
  },
  {
   "cell_type": "code",
   "execution_count": null,
   "metadata": {},
   "outputs": [],
   "source": [
    "def make_withdraw(balance):\n",
    "    def update_balance(debit):\n",
    "        # places the variable 'balance' in the outer scope of make_withdraw \n",
    "        # into the inner scope of update_balance\n",
    "        nonlocal balance\n",
    "        if debit <= balance:\n",
    "            balance -= debit\n",
    "            print(f\"New balance: ${balance:.2f}\")\n",
    "        else:\n",
    "            print(\"Please enter a withdrawl amount \" \n",
    "                  \"less than or equal to your current balance.\")\n",
    "    return update_balance\n",
    "\n",
    "init_balance = 500 # initial balance\n",
    "withdraw_amount = 150.50 # amount to withdraw\n",
    "\n",
    "wd = make_withdraw(init_balance)\n",
    "wd(withdraw_amount)"
   ]
  },
  {
   "cell_type": "markdown",
   "metadata": {},
   "source": [
    "#### Part d"
   ]
  },
  {
   "cell_type": "code",
   "execution_count": null,
   "metadata": {},
   "outputs": [],
   "source": [
    "from IPython.display import HTML # Allows us to embed HTML into our notebook.\n",
    "HTML(\"\"\"<iframe width=\"800\" height=\"500\" frameborder=\"0\" src=\"http://pythontutor.com/iframe-embed.html#code=def%20make_withdraw%28balance%29%3A%0A%20%20%20%20def%20update_balance%28debit%29%3A%0A%20%20%20%20%20%20%20%20%23%20places%20the%20variable%20'balance'%20in%20the%20outer%20scope%20of%20make_withdraw%20%0A%20%20%20%20%20%20%20%20%23%20into%20the%20inner%20scope%20of%20update_balance%0A%20%20%20%20%20%20%20%20nonlocal%20balance%0A%20%20%20%20%20%20%20%20if%20debit%20%3C%3D%20balance%3A%0A%20%20%20%20%20%20%20%20%20%20%20%20balance%20-%3D%20debit%0A%20%20%20%20%20%20%20%20%20%20%20%20print%28f%22New%20balance%3A%20%24%7Bbalance%3A.2f%7D%22%29%0A%20%20%20%20%20%20%20%20else%3A%0A%20%20%20%20%20%20%20%20%20%20%20%20print%28%22Please%20enter%20a%20withdrawl%20amount%20%22%20%0A%20%20%20%20%20%20%20%20%20%20%20%20%20%20%20%20%20%20%22less%20than%20or%20equal%20to%20your%20current%20balance.%22%29%0A%20%20%20%20return%20update_balance%0A%0Ainit_balance%20%3D%20500%20%23%20initial%20balance%0Awithdraw_amount%20%3D%20150.50%20%23%20amount%20to%20withdraw%0A%0Awd%20%3D%20make_withdraw%28init_balance%29%0Awd%28withdraw_amount%29&codeDivHeight=400&codeDivWidth=350&cumulative=false&curInstr=0&heapPrimitives=nevernest&origin=opt-frontend.js&py=3&rawInputLstJSON=%5B%5D&textReferences=false\"> </iframe>\"\"\")"
   ]
  },
  {
   "cell_type": "code",
   "execution_count": null,
   "metadata": {},
   "outputs": [],
   "source": [
    "### Problem 6"
   ]
  },
  {
   "cell_type": "markdown",
   "metadata": {},
   "source": [
    "Reading in the list of radii from `circles.txt` and computing areas again here to keep things self-contained. "
   ]
  },
  {
   "cell_type": "code",
   "execution_count": null,
   "metadata": {},
   "outputs": [],
   "source": [
    "import numpy as np\n",
    "\n",
    "# open the file\n",
    "with open('circles.txt') as f:\n",
    "    radii = f.read().split()\n",
    "\n",
    "# convert strings to floats using some list comprehension \n",
    "radii = [float(i) for i in radii]\n",
    "\n",
    "# function to compute the areas\n",
    "pi = 3.14159265359\n",
    "def area_circ(radii):\n",
    "    # returns list of computed areas or circle given list of radii\n",
    "    return [pi * r**2 for r in radii]\n",
    "\n",
    "# store list of computed areas\n",
    "area_list = area_circ(radii)\n",
    "# converting to array for numpy method\n",
    "area_array = np.array(area_list) "
   ]
  },
  {
   "cell_type": "markdown",
   "metadata": {},
   "source": [
    "Setting up the timer."
   ]
  },
  {
   "cell_type": "code",
   "execution_count": null,
   "metadata": {},
   "outputs": [],
   "source": [
    "import time\n",
    "def timer(f):\n",
    "    def inner(*args):\n",
    "        t0 = time.time()\n",
    "        output = f(*args)\n",
    "        elapsed = time.time() - t0\n",
    "        print(\"Time Elapsed\", elapsed)\n",
    "        return output\n",
    "    return inner"
   ]
  },
  {
   "cell_type": "markdown",
   "metadata": {},
   "source": [
    "Timing list method first:"
   ]
  },
  {
   "cell_type": "code",
   "execution_count": null,
   "metadata": {},
   "outputs": [],
   "source": [
    "@timer\n",
    "def myave_list(num_list):\n",
    "    tot = 0 # running total of num_list\n",
    "    for N, n in enumerate(num_list, 1): \n",
    "        # N starts at 1 and iterates up to length of num_list \n",
    "        tot +=n\n",
    "    return tot/N\n",
    "\n",
    "myave_list(area_list)"
   ]
  },
  {
   "cell_type": "markdown",
   "metadata": {},
   "source": [
    "And now with the numpy method:"
   ]
  },
  {
   "cell_type": "code",
   "execution_count": null,
   "metadata": {},
   "outputs": [],
   "source": [
    "@timer\n",
    "def myave_np(num_array):\n",
    "    # assumes num_array is a numpy array\n",
    "    return np.mean(num_array)\n",
    "\n",
    "myave_np(area_array)"
   ]
  },
  {
   "cell_type": "markdown",
   "metadata": {},
   "source": [
    "### Problem 7"
   ]
  },
  {
   "cell_type": "markdown",
   "metadata": {},
   "source": [
    "Sign checker decorator."
   ]
  },
  {
   "cell_type": "code",
   "execution_count": 39,
   "metadata": {},
   "outputs": [],
   "source": [
    "def check_sign(f):\n",
    "    def inner(*args, **kwargs):\n",
    "        output = f(*args, **kwargs)\n",
    "        if output < 0:\n",
    "            print(\"Funtion returns a negative value\")\n",
    "        elif output > 0:\n",
    "            print(\"Funtion returns a positive value\")\n",
    "        else:\n",
    "            print(\"Function returns a value of zero\")\n",
    "        return output\n",
    "    return inner"
   ]
  },
  {
   "cell_type": "markdown",
   "metadata": {},
   "source": [
    "#### Discrimant function"
   ]
  },
  {
   "cell_type": "code",
   "execution_count": 45,
   "metadata": {},
   "outputs": [
    {
     "name": "stdout",
     "output_type": "stream",
     "text": [
      "Funtion returns a positive value\n",
      "8\n",
      "Funtion returns a negative value\n",
      "-7\n"
     ]
    }
   ],
   "source": [
    "@check_sign\n",
    "def discr(*args, **kwargs):\n",
    "    d = kwargs['b']**2 - 4*kwargs['a']*kwargs['c']\n",
    "    return d\n",
    "\n",
    "# positive case\n",
    "params = {'a':1, 'b':4, 'c':2}\n",
    "print(discr(**params))\n",
    "\n",
    "#negative case\n",
    "params = {'a':1, 'b':1, 'c':2}\n",
    "print(discr(**params))"
   ]
  },
  {
   "cell_type": "markdown",
   "metadata": {},
   "source": [
    "Absolute value function"
   ]
  },
  {
   "cell_type": "code",
   "execution_count": 46,
   "metadata": {},
   "outputs": [
    {
     "name": "stdout",
     "output_type": "stream",
     "text": [
      "Funtion returns a positive value\n"
     ]
    },
    {
     "data": {
      "text/plain": [
       "4"
      ]
     },
     "execution_count": 46,
     "metadata": {},
     "output_type": "execute_result"
    }
   ],
   "source": [
    "@check_sign\n",
    "def abs_val(x):\n",
    "    if x < 0:\n",
    "        x = -x\n",
    "    return x\n",
    "\n",
    "num = -4\n",
    "abs_val(num)"
   ]
  },
  {
   "cell_type": "markdown",
   "metadata": {},
   "source": [
    "Wavy function"
   ]
  },
  {
   "cell_type": "code",
   "execution_count": 47,
   "metadata": {},
   "outputs": [
    {
     "name": "stdout",
     "output_type": "stream",
     "text": [
      "Funtion returns a positive value\n",
      "0.09983341666666667\n",
      "Funtion returns a negative value\n",
      "-0.09983341666666667\n"
     ]
    }
   ],
   "source": [
    "@check_sign\n",
    "def func_sin(x):\n",
    "    return x - x**3/(3*2) + x**5/(5*4*3*2)\n",
    "\n",
    "# positive case\n",
    "num = 0.1\n",
    "print(func_sin(num))\n",
    "\n",
    "# negative case\n",
    "num = -0.1\n",
    "print(func_sin(num))"
   ]
  }
 ],
 "metadata": {
  "kernelspec": {
   "display_name": "Python 3",
   "language": "python",
   "name": "python3"
  },
  "language_info": {
   "codemirror_mode": {
    "name": "ipython",
    "version": 3
   },
   "file_extension": ".py",
   "mimetype": "text/x-python",
   "name": "python",
   "nbconvert_exporter": "python",
   "pygments_lexer": "ipython3",
   "version": "3.6.5"
  },
  "toc": {
   "colors": {
    "hover_highlight": "#DAA520",
    "navigate_num": "#fc151b",
    "navigate_text": "#92a2be",
    "running_highlight": "#FF0000",
    "selected_highlight": "#FFD700",
    "sidebar_border": "#EEEEEE",
    "wrapper_background": "#FFFFFF"
   },
   "moveMenuLeft": true,
   "nav_menu": {
    "height": "267px",
    "width": "587px"
   },
   "navigate_menu": true,
   "number_sections": false,
   "sideBar": true,
   "threshold": 4,
   "toc_cell": false,
   "toc_section_display": "block",
   "toc_window_display": false,
   "widenNotebook": false
  }
 },
 "nbformat": 4,
 "nbformat_minor": 2
}
