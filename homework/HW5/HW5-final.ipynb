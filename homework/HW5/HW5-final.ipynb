{
 "cells": [
  {
   "cell_type": "markdown",
   "metadata": {},
   "source": [
    "# HW5"
   ]
  },
  {
   "cell_type": "markdown",
   "metadata": {},
   "source": [
    "## Part 1: Data Structures [90 points]"
   ]
  },
  {
   "cell_type": "markdown",
   "metadata": {},
   "source": [
    "### Problem 1: Linked List Class"
   ]
  },
  {
   "cell_type": "code",
   "execution_count": 272,
   "metadata": {},
   "outputs": [
    {
     "name": "stdout",
     "output_type": "stream",
     "text": [
      "LinkedList(1.0) 1 [1.0, None]\n",
      "LinkedList(-1.0) 2 [-1.0, [1.0, None]]\n",
      "LinkedList(-1.0) 3 [-1.0, [1.0, [3.0, None]]]\n",
      "-1.0 1.0 3.0\n"
     ]
    },
    {
     "data": {
      "text/plain": [
       "LinkedList(-1.0)"
      ]
     },
     "execution_count": 272,
     "metadata": {},
     "output_type": "execute_result"
    }
   ],
   "source": [
    "class LinkedList():\n",
    "    \n",
    "    def __init__(self, head):\n",
    "        self._headNode = [head, None] # only one node, so points to None\n",
    "    \n",
    "    def __len__(self):\n",
    "        node = self._headNode # create pointer\n",
    "        node_count = 0 # keeps track of node index\n",
    "        while node != None:\n",
    "            node = node[1] # move pointer to next node \n",
    "            node_count += 1 # update node index as well\n",
    "        return node_count\n",
    "        \n",
    "    def __getitem__(self, index):\n",
    "        node = self._headNode # create pointer\n",
    "        \n",
    "        if (index+1) > len(self): # catch if index is out of bounds\n",
    "            raise IndexError   \n",
    "        \n",
    "        node_idx = 0 # keeps track of node index            \n",
    "        while node != None:\n",
    "            if node_idx == index: # found a match\n",
    "                return node[0]\n",
    "                break # don't need to keep walking along chain\n",
    "            node = node[1] # move pointer to next node\n",
    "            node_idx += 1 # update node index as well \n",
    "    \n",
    "    def __repr__(self):\n",
    "        s = f'LinkedList({self._headNode[0]})'\n",
    "        return s\n",
    "    \n",
    "    def insert_front(self, element):\n",
    "        # sets element as head node\n",
    "        self._headNode = [element, self._headNode]\n",
    "    \n",
    "    def insert_back(self, element):\n",
    "        # appends element to end\n",
    "        tail = self._headNode # pointer for self._headNode\n",
    "        while tail[1] != None: \n",
    "            tail = tail[1] # traverse pointer to last node\n",
    "            \n",
    "        tail[1] = [element, None] # append element\n",
    "        \n",
    "ll = LinkedList(1.0)\n",
    "print(ll, len(ll), ll._headNode)\n",
    "\n",
    "ll.insert_front(-1.0)\n",
    "print(ll, len(ll), ll._headNode)\n",
    "\n",
    "ll.insert_back(3.0)\n",
    "print(ll, len(ll), ll._headNode)\n",
    "\n",
    "print(ll[0], ll[1], ll[2])\n",
    "\n",
    "eval(repr(ll))"
   ]
  }
 ],
 "metadata": {
  "kernelspec": {
   "display_name": "Python 3",
   "language": "python",
   "name": "python3"
  },
  "language_info": {
   "codemirror_mode": {
    "name": "ipython",
    "version": 3
   },
   "file_extension": ".py",
   "mimetype": "text/x-python",
   "name": "python",
   "nbconvert_exporter": "python",
   "pygments_lexer": "ipython3",
   "version": "3.6.5"
  },
  "toc": {
   "colors": {
    "hover_highlight": "#DAA520",
    "navigate_num": "#fc151b",
    "navigate_text": "#92a2be",
    "running_highlight": "#FF0000",
    "selected_highlight": "#FFD700",
    "sidebar_border": "#EEEEEE",
    "wrapper_background": "#FFFFFF"
   },
   "moveMenuLeft": true,
   "nav_menu": {
    "height": "0px",
    "width": "250px"
   },
   "navigate_menu": true,
   "number_sections": false,
   "sideBar": true,
   "threshold": 4,
   "toc_cell": false,
   "toc_section_display": "block",
   "toc_window_display": false,
   "widenNotebook": false
  }
 },
 "nbformat": 4,
 "nbformat_minor": 2
}
