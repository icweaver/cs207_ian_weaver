{
 "cells": [
  {
   "cell_type": "markdown",
   "metadata": {},
   "source": [
    "# HW5"
   ]
  },
  {
   "cell_type": "markdown",
   "metadata": {},
   "source": [
    "## Part 1: Data Structures [90 points]"
   ]
  },
  {
   "cell_type": "markdown",
   "metadata": {},
   "source": [
    "### Problem 1: Linked List Class"
   ]
  },
  {
   "cell_type": "code",
   "execution_count": 1,
   "metadata": {},
   "outputs": [
    {
     "name": "stdout",
     "output_type": "stream",
     "text": [
      "LinkedList(1.0) 1 [1.0, None]\n",
      "LinkedList(-1.0) 2 [-1.0, [1.0, None]]\n",
      "LinkedList(-1.0) 3 [-1.0, [1.0, [3.0, None]]]\n",
      "-1.0 1.0 3.0\n"
     ]
    },
    {
     "data": {
      "text/plain": [
       "LinkedList(-1.0)"
      ]
     },
     "execution_count": 1,
     "metadata": {},
     "output_type": "execute_result"
    }
   ],
   "source": [
    "class LinkedList():\n",
    "    \n",
    "    def __init__(self, head):\n",
    "        self._headNode = [head, None] # only one node, so points to None\n",
    "    \n",
    "    def __len__(self):\n",
    "        node = self._headNode # create pointer\n",
    "        node_count = 0 # keeps track of node index\n",
    "        while node is not None:\n",
    "            node = node[1] # move pointer to next node \n",
    "            node_count += 1 # update node index as well\n",
    "        return node_count\n",
    "        \n",
    "    def __getitem__(self, index):\n",
    "        node = self._headNode # create pointer\n",
    "        \n",
    "        if (index+1) > len(self): # catch if index is out of bounds\n",
    "            raise IndexError   \n",
    "        \n",
    "        node_idx = 0 # keeps track of node index            \n",
    "        while node is not None:\n",
    "            if node_idx == index: # found a match\n",
    "                return node[0]\n",
    "                break # don't need to keep walking along chain\n",
    "            node = node[1] # move pointer to next node\n",
    "            node_idx += 1 # update node index as well \n",
    "    \n",
    "    def __repr__(self):\n",
    "        s = f'LinkedList({self._headNode[0]})'\n",
    "        return s\n",
    "    \n",
    "    def insert_front(self, element):\n",
    "        # sets element as head node\n",
    "        self._headNode = [element, self._headNode]\n",
    "    \n",
    "    def insert_back(self, element):\n",
    "        # appends element to end\n",
    "        tail = self._headNode # pointer for self._headNode\n",
    "        while tail[1] is not None: \n",
    "            tail = tail[1] # traverse pointer to last node\n",
    "            \n",
    "        tail[1] = [element, None] # append element\n",
    "        \n",
    "ll = LinkedList(1.0)\n",
    "print(ll, len(ll), ll._headNode)\n",
    "\n",
    "ll.insert_front(-1.0)\n",
    "print(ll, len(ll), ll._headNode)\n",
    "\n",
    "ll.insert_back(3.0)\n",
    "print(ll, len(ll), ll._headNode)\n",
    "\n",
    "print(ll[0], ll[1], ll[2])\n",
    "\n",
    "eval(repr(ll))"
   ]
  },
  {
   "cell_type": "markdown",
   "metadata": {},
   "source": [
    "### Problem 2: Binary Tree Class"
   ]
  },
  {
   "cell_type": "code",
   "execution_count": 327,
   "metadata": {
    "scrolled": true
   },
   "outputs": [
    {
     "name": "stdout",
     "output_type": "stream",
     "text": [
      "[20]\n",
      "[10, None]\n",
      "[3, 17, None, None]\n",
      "[0, None, 14, None, None, None, None, None]\n"
     ]
    }
   ],
   "source": [
    "class BinaryTree: \n",
    "    \n",
    "    def __init__(self):\n",
    "        self.val = None # parent node value\n",
    "        self.l = None # points left\n",
    "        self.r = None # points right\n",
    "        \n",
    "    def insert(self, val):\n",
    "        # create child node to be inserted\n",
    "        child = BinaryTree()\n",
    "        child.val = val\n",
    "        \n",
    "        if self.val == None: # start off tree if empty\n",
    "            self.val = val\n",
    "        \n",
    "        else:    \n",
    "            while True:\n",
    "                # left branch\n",
    "                if child.val < self.val:\n",
    "                    if self.l is None:\n",
    "                        self.l = child # insert\n",
    "                        break\n",
    "                    else: # keep moving down\n",
    "                        self = self.l\n",
    "                \n",
    "                # right branch\n",
    "                else:\n",
    "                    if self.r is None:\n",
    "                        self.r = child # insert\n",
    "                        break\n",
    "                    else: # keep moving down\n",
    "                        self = self.r\n",
    "    \n",
    "    def remove(self, val):\n",
    "        pass\n",
    "    \n",
    "    def getValues(self, depth):\n",
    "        if depth == 0: # easiest case\n",
    "            return [self.val]\n",
    "        \n",
    "        level_current = [self] # will be replaced \"row by row\" in place\n",
    "        for d in range(depth):\n",
    "            row = [None]*2**(d+1) # reset row\n",
    "            idx_node = 0 # reset node index for current row\n",
    "            \n",
    "            level_next = [] # will hold row a level down\n",
    "            for n in level_current: # loop through nodes at current level\n",
    "                if n.l: \n",
    "                    level_next.append(n.l)\n",
    "                    row[idx_node] = n.l.val\n",
    "                    idx_node += 1\n",
    "                else: idx_node += 1 # next space is None \n",
    "                if n.r: \n",
    "                    level_next.append(n.r)\n",
    "                    row[idx_node] = n.r.val\n",
    "                    idx_node += 1\n",
    "                else: idx_node += 1 # next space for None\n",
    "                \n",
    "            level_current = level_next # move down a level\n",
    "            \n",
    "        return row\n",
    "        \n",
    "            \n",
    "bt = BinaryTree()\n",
    "arr = [20, 10, 17, 14, 3, 0]\n",
    "for i in arr:\n",
    "    bt.insert(i)\n",
    "    \n",
    "for i in range(4):\n",
    "    print(bt.getValues(i))"
   ]
  },
  {
   "cell_type": "markdown",
   "metadata": {},
   "source": [
    "### Problem 3"
   ]
  },
  {
   "cell_type": "markdown",
   "metadata": {},
   "source": [
    "#### Part 1: Parse the .csv file into a numpy array"
   ]
  },
  {
   "cell_type": "code",
   "execution_count": 509,
   "metadata": {},
   "outputs": [
    {
     "data": {
      "text/plain": [
       "array([[0.4 , 0.3 , 0.1 , 0.05, 0.1 , 0.05],\n",
       "       [0.3 , 0.4 , 0.1 , 0.1 , 0.08, 0.02],\n",
       "       [0.2 , 0.3 , 0.35, 0.05, 0.05, 0.05],\n",
       "       [0.1 , 0.2 , 0.25, 0.3 , 0.1 , 0.05],\n",
       "       [0.15, 0.2 , 0.1 , 0.15, 0.3 , 0.1 ],\n",
       "       [0.1 , 0.2 , 0.35, 0.1 , 0.05, 0.2 ]])"
      ]
     },
     "execution_count": 509,
     "metadata": {},
     "output_type": "execute_result"
    }
   ],
   "source": [
    "import numpy as np\n",
    "weather = np.genfromtxt('weather.csv', delimiter=',')\n",
    "weather"
   ]
  },
  {
   "cell_type": "markdown",
   "metadata": {},
   "source": [
    "#### Part 2: Create a class called `Markov`"
   ]
  },
  {
   "cell_type": "code",
   "execution_count": 549,
   "metadata": {},
   "outputs": [
    {
     "name": "stdout",
     "output_type": "stream",
     "text": [
      "0.3\n"
     ]
    }
   ],
   "source": [
    "class Markov:\n",
    "    def __init__(self):\n",
    "        pass\n",
    "        \n",
    "    def load_data(self, array):\n",
    "        self.data = array\n",
    "    \n",
    "    def get_prob(self, previous_day, following_day):\n",
    "        weather_names = {'sunny':0, 'cloudy':1, 'rainy':2, \n",
    "                 'snowy':3, 'windy':4, 'hailing':5}\n",
    "        before_idx = weather_names[previous_day]\n",
    "        after_idx = weather_names[following_day]\n",
    "        return self.data[before_idx][after_idx]\n",
    "\n",
    "weather_today = Markov()\n",
    "weather_today.load_data(weather)\n",
    "print(weather_today.get_prob('sunny', 'cloudy'))"
   ]
  }
 ],
 "metadata": {
  "kernelspec": {
   "display_name": "Python 3",
   "language": "python",
   "name": "python3"
  },
  "language_info": {
   "codemirror_mode": {
    "name": "ipython",
    "version": 3
   },
   "file_extension": ".py",
   "mimetype": "text/x-python",
   "name": "python",
   "nbconvert_exporter": "python",
   "pygments_lexer": "ipython3",
   "version": "3.6.5"
  },
  "toc": {
   "colors": {
    "hover_highlight": "#DAA520",
    "navigate_num": "#fc151b",
    "navigate_text": "#92a2be",
    "running_highlight": "#FF0000",
    "selected_highlight": "#FFD700",
    "sidebar_border": "#EEEEEE",
    "wrapper_background": "#FFFFFF"
   },
   "moveMenuLeft": true,
   "nav_menu": {
    "height": "0px",
    "width": "250px"
   },
   "navigate_menu": true,
   "number_sections": false,
   "sideBar": true,
   "threshold": 4,
   "toc_cell": false,
   "toc_section_display": "block",
   "toc_window_display": false,
   "widenNotebook": false
  }
 },
 "nbformat": 4,
 "nbformat_minor": 2
}
