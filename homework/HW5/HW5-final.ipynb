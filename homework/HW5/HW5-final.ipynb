{
 "cells": [
  {
   "cell_type": "markdown",
   "metadata": {},
   "source": [
    "# HW5"
   ]
  },
  {
   "cell_type": "markdown",
   "metadata": {},
   "source": [
    "## Part 1: Data Structures [90 points]"
   ]
  },
  {
   "cell_type": "markdown",
   "metadata": {},
   "source": [
    "### Problem 1: Linked List Class"
   ]
  },
  {
   "cell_type": "code",
   "execution_count": 227,
   "metadata": {},
   "outputs": [
    {
     "name": "stdout",
     "output_type": "stream",
     "text": [
      "LinkedList(1.0) 1 [1.0, None]\n",
      "LinkedList(-1.0) 2 [-1.0, [1.0, None]]\n",
      "LinkedList(-1.0) 3 [-1.0, [1.0, [3.0, None]]]\n",
      "-1.0 1.0 3.0\n"
     ]
    },
    {
     "data": {
      "text/plain": [
       "LinkedList(-1.0)"
      ]
     },
     "execution_count": 227,
     "metadata": {},
     "output_type": "execute_result"
    }
   ],
   "source": [
    "class LinkedList():\n",
    "    \n",
    "    def __init__(self, head):\n",
    "        self._headNode = [head, None] # only one node, so points to None\n",
    "    \n",
    "    def __len__(self):\n",
    "        node = self._headNode # create pointer\n",
    "        node_count = 0 # keeps track of node index\n",
    "        while node is not None:\n",
    "            node = node[1] # move pointer to next node \n",
    "            node_count += 1 # update node index as well\n",
    "        return node_count\n",
    "        \n",
    "    def __getitem__(self, index):\n",
    "        node = self._headNode # create pointer\n",
    "        \n",
    "        if (index+1) > len(self): # catch if index is out of bounds\n",
    "            raise IndexError   \n",
    "        \n",
    "        node_idx = 0 # keeps track of node index            \n",
    "        while node is not None:\n",
    "            if node_idx == index: # found a match\n",
    "                return node[0]\n",
    "                break # don't need to keep walking along chain\n",
    "            node = node[1] # move pointer to next node\n",
    "            node_idx += 1 # update node index as well \n",
    "    \n",
    "    def __repr__(self):\n",
    "        s = f'LinkedList({self._headNode[0]})'\n",
    "        return s\n",
    "    \n",
    "    def insert_front(self, element):\n",
    "        # sets element as head node\n",
    "        self._headNode = [element, self._headNode]\n",
    "    \n",
    "    def insert_back(self, element):\n",
    "        # appends element to end\n",
    "        tail = self._headNode # pointer for self._headNode\n",
    "        while tail[1] is not None: \n",
    "            tail = tail[1] # traverse pointer to last node\n",
    "            \n",
    "        tail[1] = [element, None] # append element\n",
    "        \n",
    "ll = LinkedList(1.0)\n",
    "print(ll, len(ll), ll._headNode)\n",
    "\n",
    "ll.insert_front(-1.0)\n",
    "print(ll, len(ll), ll._headNode)\n",
    "\n",
    "ll.insert_back(3.0)\n",
    "print(ll, len(ll), ll._headNode)\n",
    "\n",
    "print(ll[0], ll[1], ll[2])\n",
    "\n",
    "eval(repr(ll))"
   ]
  },
  {
   "cell_type": "markdown",
   "metadata": {},
   "source": [
    "### Problem 2: Binary Tree Class"
   ]
  },
  {
   "cell_type": "code",
   "execution_count": 497,
   "metadata": {
    "scrolled": true
   },
   "outputs": [
    {
     "name": "stdout",
     "output_type": "stream",
     "text": [
      "row_index(0): 0  row_index(2): 14  "
     ]
    }
   ],
   "source": [
    "class BinaryTree:\n",
    "    def __init__(self):\n",
    "        self.val = None # parent node value\n",
    "        self.l = None # points left\n",
    "        self.r = None # points right\n",
    "        global count\n",
    "        global row\n",
    "        count = 0\n",
    "        row = []\n",
    "    \n",
    "    def insert(self, val):\n",
    "        # create node to be inserted\n",
    "        other = BinaryTree()\n",
    "        other.val = val\n",
    "        \n",
    "        if self.val == None: # start off tree if empty\n",
    "            self.val = val\n",
    "        \n",
    "        else:    \n",
    "            while True:\n",
    "                # left branch\n",
    "                if other.val < self.val:\n",
    "                    if self.l is None:\n",
    "                        self.l = other # insert\n",
    "                        break\n",
    "                    else: # keep moving down\n",
    "                        self = self.l\n",
    "                \n",
    "                # right branch\n",
    "                else:\n",
    "                    if self.r is None:\n",
    "                        self.r = other # insert\n",
    "                        break\n",
    "                    else: # keep moving down\n",
    "                        self = self.r\n",
    "    \n",
    "    def remove(self, val):\n",
    "        pass\n",
    "    \n",
    "    def getValues(self, depth):\n",
    "        global count\n",
    "        other_l = self # to point to left side\n",
    "        other_r = self # to point to right side\n",
    "        \n",
    "        if depth == 0: # just print root node\n",
    "            print(f'row_index({count}): {self.val}', end='  ')\n",
    "            count += 1\n",
    "        \n",
    "        else:\n",
    "            # check if next node down exists \n",
    "            if other_l.l: \n",
    "                other_l = other_l.l # move down left side\n",
    "                other_l.getValues(depth - 1)\n",
    "            else:\n",
    "                count += 1\n",
    "            if other_r.r:\n",
    "                other_r = other_r.r # move down right side\n",
    "                other_r.getValues(depth - 1)\n",
    "            else: count += 1\n",
    "            \n",
    "bt = BinaryTree()\n",
    "arr = [20, 10, 17, 14, 3, 0]\n",
    "for i in arr:\n",
    "    bt.insert(i)\n",
    "    \n",
    "bt.getValues(3)"
   ]
  }
 ],
 "metadata": {
  "kernelspec": {
   "display_name": "Python 3",
   "language": "python",
   "name": "python3"
  },
  "language_info": {
   "codemirror_mode": {
    "name": "ipython",
    "version": 3
   },
   "file_extension": ".py",
   "mimetype": "text/x-python",
   "name": "python",
   "nbconvert_exporter": "python",
   "pygments_lexer": "ipython3",
   "version": "3.6.5"
  },
  "toc": {
   "colors": {
    "hover_highlight": "#DAA520",
    "navigate_num": "#fc151b",
    "navigate_text": "#92a2be",
    "running_highlight": "#FF0000",
    "selected_highlight": "#FFD700",
    "sidebar_border": "#EEEEEE",
    "wrapper_background": "#FFFFFF"
   },
   "moveMenuLeft": true,
   "nav_menu": {
    "height": "0px",
    "width": "250px"
   },
   "navigate_menu": true,
   "number_sections": false,
   "sideBar": true,
   "threshold": 4,
   "toc_cell": false,
   "toc_section_display": "block",
   "toc_window_display": false,
   "widenNotebook": false
  }
 },
 "nbformat": 4,
 "nbformat_minor": 2
}
