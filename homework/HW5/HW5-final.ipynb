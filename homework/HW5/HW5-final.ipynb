{
 "cells": [
  {
   "cell_type": "markdown",
   "metadata": {},
   "source": [
    "# HW5"
   ]
  },
  {
   "cell_type": "markdown",
   "metadata": {},
   "source": [
    "## Part 1: Data Structures [90 points]"
   ]
  },
  {
   "cell_type": "markdown",
   "metadata": {},
   "source": [
    "### Problem 1: Linked List Class"
   ]
  },
  {
   "cell_type": "code",
   "execution_count": 1,
   "metadata": {},
   "outputs": [
    {
     "name": "stdout",
     "output_type": "stream",
     "text": [
      "LinkedList(1.0) 1 [1.0, None]\n",
      "LinkedList(-1.0) 2 [-1.0, [1.0, None]]\n",
      "LinkedList(-1.0) 3 [-1.0, [1.0, [3.0, None]]]\n",
      "-1.0 1.0 3.0\n"
     ]
    },
    {
     "data": {
      "text/plain": [
       "LinkedList(-1.0)"
      ]
     },
     "execution_count": 1,
     "metadata": {},
     "output_type": "execute_result"
    }
   ],
   "source": [
    "class LinkedList():\n",
    "    \n",
    "    def __init__(self, head):\n",
    "        self._headNode = [head, None] # only one node, so points to None\n",
    "    \n",
    "    def __len__(self):\n",
    "        node = self._headNode # create pointer\n",
    "        node_count = 0 # keeps track of node index\n",
    "        while node is not None:\n",
    "            node = node[1] # move pointer to next node \n",
    "            node_count += 1 # update node index as well\n",
    "        return node_count\n",
    "        \n",
    "    def __getitem__(self, index):\n",
    "        node = self._headNode # create pointer\n",
    "        \n",
    "        if (index+1) > len(self): # catch if index is out of bounds\n",
    "            raise IndexError   \n",
    "        \n",
    "        node_idx = 0 # keeps track of node index            \n",
    "        while node is not None:\n",
    "            if node_idx == index: # found a match\n",
    "                return node[0]\n",
    "                break # don't need to keep walking along chain\n",
    "            node = node[1] # move pointer to next node\n",
    "            node_idx += 1 # update node index as well \n",
    "    \n",
    "    def __repr__(self):\n",
    "        s = f'LinkedList({self._headNode[0]})'\n",
    "        return s\n",
    "    \n",
    "    def insert_front(self, element):\n",
    "        # sets element as head node\n",
    "        self._headNode = [element, self._headNode]\n",
    "    \n",
    "    def insert_back(self, element):\n",
    "        # appends element to end\n",
    "        tail = self._headNode # pointer for self._headNode\n",
    "        while tail[1] is not None: \n",
    "            tail = tail[1] # traverse pointer to last node\n",
    "            \n",
    "        tail[1] = [element, None] # append element\n",
    "        \n",
    "ll = LinkedList(1.0)\n",
    "print(ll, len(ll), ll._headNode)\n",
    "\n",
    "ll.insert_front(-1.0)\n",
    "print(ll, len(ll), ll._headNode)\n",
    "\n",
    "ll.insert_back(3.0)\n",
    "print(ll, len(ll), ll._headNode)\n",
    "\n",
    "print(ll[0], ll[1], ll[2])\n",
    "\n",
    "eval(repr(ll))"
   ]
  },
  {
   "cell_type": "markdown",
   "metadata": {},
   "source": [
    "### Problem 2: Binary Tree Class"
   ]
  },
  {
   "cell_type": "code",
   "execution_count": 137,
   "metadata": {},
   "outputs": [],
   "source": [
    "class BinaryTree: \n",
    "    \n",
    "    def __init__(self):\n",
    "        self.val = None # parent node value\n",
    "        self.l = None # points left\n",
    "        self.r = None # points right\n",
    "        \n",
    "    def insert(self, val):\n",
    "        # create child node to be inserted\n",
    "        child = BinaryTree()\n",
    "        child.val = val\n",
    "        \n",
    "        if self.val == None: # start off tree if empty\n",
    "            self.val = val\n",
    "        \n",
    "        else:\n",
    "            while self.val: # also catches if node -> None from remove(...)\n",
    "                # left branch\n",
    "                if (child.val < self.val):\n",
    "                    if self.l is None:\n",
    "                        self.l = child # insert\n",
    "                        break\n",
    "                    else: # keep moving down left side\n",
    "                        self = self.l\n",
    "\n",
    "                # right branch\n",
    "                else:\n",
    "                    if self.r is None:\n",
    "                        self.r = child # insert\n",
    "                        break\n",
    "                    else: # keep moving down right side\n",
    "                        self = self.r\n",
    "    \n",
    "    def remove(self, val):\n",
    "        # to \"delete\" a node, this actually replaces the node's value with \n",
    "        # its appropriate child's value, then connects this overwritten node to \n",
    "        # its former grandchildren before erasing the original child.\n",
    "        \n",
    "        # move to node to be deleted\n",
    "        if self.val == val:\n",
    "            pass # root node handled in Case 3\n",
    "        else:\n",
    "            while self.val != val:\n",
    "                if val < self.val:\n",
    "                    self = self.l\n",
    "                else:\n",
    "                    self = self.r\n",
    "                       \n",
    "        # Case 1: Node to delete has no children\n",
    "        if (not self.l) and (not self.r):\n",
    "            self = None\n",
    "    \n",
    "        # Case 2: Node to delete has 1 child\n",
    "        elif self.l and (not self.r):\n",
    "            self.val = self.l.val # replace with child value\n",
    "            # connect to grandchildren\n",
    "            if self.l.l: self.l = self.l.l\n",
    "            if self.l.r: self.r = self.l.r\n",
    "            self.l = None # erase child\n",
    "        elif self.r and (not self.l):\n",
    "            self.val = self.r.val # replace with child value\n",
    "            # connect to grandchildren\n",
    "            if self.r.l: self.l = self.r.l\n",
    "            if self.r.r: self.r = self.r.r\n",
    "            self.r = None # erase child\n",
    "        \n",
    "        # Case 3: Node to delete has two children\n",
    "        elif self.l and self.r:\n",
    "            max_node = self # create copy of node to be deleted [\n",
    "            # will avoid overwriting where we are (at node to be deleted)]\n",
    "            max_node = max_node.l # find max val in left sub-branch\n",
    "            if max_node.r: # keep moving down right side\n",
    "                while max_node.r:\n",
    "                    max_node = max_node.r   \n",
    "            # else, the largest value must be the first left child\n",
    "            self.val = max_node.val # replace with child value\n",
    "            # connect to grandchildren\n",
    "            if max_node.l: self.l = max_node.l\n",
    "            if max_node.r: self.r = max_node.r\n",
    "            max_node = None # erase child\n",
    "        else:\n",
    "            print('something went wrong')\n",
    "            \n",
    "    def getValues(self, depth):\n",
    "        if depth == 0: # easiest case\n",
    "            return [self.val]\n",
    "        \n",
    "        # else\n",
    "        row_current = [self] # will be replaced \"row by row\" in place\n",
    "        for d in range(depth):\n",
    "            row_print = [None]*2**(d+1) # reset row for next level\n",
    "            row_idx = 0 # reset node index for next level\n",
    "            row_next = [] # will hold row a level down\n",
    "            for n in row_current: # loop through nodes at current level\n",
    "                if n and n.l: \n",
    "                    row_next.append(n.l)\n",
    "                    row_print[row_idx] = n.l.val\n",
    "                    row_idx += 1\n",
    "                else: # fill in gaps in tree\n",
    "                    row_next.append(None) \n",
    "                    row_idx += 1\n",
    "                if n and n.r: \n",
    "                    row_next.append(n.r)\n",
    "                    row_print[row_idx] = n.r.val\n",
    "                    row_idx += 1\n",
    "                else: # fill in gaps in tree\n",
    "                    row_next.append(None)\n",
    "                    row_idx += 1\n",
    "                    \n",
    "            row_current = row_next # move down a level\n",
    "        return row_print"
   ]
  },
  {
   "cell_type": "markdown",
   "metadata": {},
   "source": [
    "#### Testing"
   ]
  },
  {
   "cell_type": "markdown",
   "metadata": {},
   "source": [
    "##### Case: Base"
   ]
  },
  {
   "cell_type": "markdown",
   "metadata": {},
   "source": [
    "Trying this out for the sample tree in this assignemnt gives"
   ]
  },
  {
   "cell_type": "code",
   "execution_count": 138,
   "metadata": {
    "scrolled": true
   },
   "outputs": [
    {
     "name": "stdout",
     "output_type": "stream",
     "text": [
      "[20]\n",
      "[10, None]\n",
      "[3, 17, None, None]\n",
      "[0, None, 14, None, None, None, None, None]\n"
     ]
    }
   ],
   "source": [
    "bt = BinaryTree()\n",
    "arr = [20, 10, 17, 14, 3, 0]\n",
    "for i in arr:\n",
    "    bt.insert(i)\n",
    "\n",
    "for i in range(4):\n",
    "    print(bt.getValues(i))"
   ]
  },
  {
   "cell_type": "markdown",
   "metadata": {},
   "source": [
    "Checks out"
   ]
  },
  {
   "cell_type": "markdown",
   "metadata": {},
   "source": [
    "##### Case: Irregular, Sparse Tree"
   ]
  },
  {
   "cell_type": "markdown",
   "metadata": {},
   "source": [
    "What if the tree has a bunch of empty space in its interior (like a \"V\"-shaped tree), and like one lone leaf node way off somwhere near the bottom right of the tree?"
   ]
  },
  {
   "cell_type": "code",
   "execution_count": 139,
   "metadata": {},
   "outputs": [
    {
     "name": "stdout",
     "output_type": "stream",
     "text": [
      "[20]\n",
      "[10, 21]\n",
      "[8, None, None, 26]\n",
      "[None, None, None, None, None, None, 22, None]\n"
     ]
    }
   ],
   "source": [
    "bt = BinaryTree()\n",
    "arr = [20, 10, 21, 8, 26, 22]\n",
    "for i in arr:\n",
    "    bt.insert(i)\n",
    "\n",
    "for i in range(4):\n",
    "    print(bt.getValues(i))"
   ]
  },
  {
   "cell_type": "markdown",
   "metadata": {},
   "source": [
    "Awesome. It looks like this implementation also takes into account skipping over large gaps in a given level."
   ]
  },
  {
   "cell_type": "markdown",
   "metadata": {},
   "source": [
    "##### Case: Removal"
   ]
  },
  {
   "cell_type": "markdown",
   "metadata": {},
   "source": [
    "Okay, but what if we remove a node that has 0, 1, or 2 children?"
   ]
  },
  {
   "cell_type": "code",
   "execution_count": 140,
   "metadata": {},
   "outputs": [
    {
     "name": "stdout",
     "output_type": "stream",
     "text": [
      "Sample tree (T)\n",
      "[20]\n",
      "[10, 21]\n",
      "[8, None, None, 26]\n",
      "[None, None, None, None, None, None, 22, None]\n",
      "\n",
      "Case: Removing node (8) with 0 children from (T)\n",
      "[20]\n",
      "[10, 21]\n",
      "[8, None, None, 26]\n",
      "[None, None, None, None, None, None, 22, None]\n",
      "\n",
      "Case: Removing node (26) with 1 child from (T)\n",
      "[20]\n",
      "[10, 21]\n",
      "[8, None, None, 22]\n",
      "[None, None, None, None, None, None, None, None]\n",
      "\n",
      "Case: Removing node (20) with 2 children from (T)\n",
      "[10]\n",
      "[8, 21]\n",
      "[None, None, None, 26]\n",
      "[None, None, None, None, None, None, 22, None]\n"
     ]
    }
   ],
   "source": [
    "# test tree\n",
    "bt = BinaryTree()\n",
    "arr = [20, 10, 21, 8, 26, 22]\n",
    "for i in arr:\n",
    "    bt.insert(i)\n",
    "print('Sample tree (T)')   \n",
    "for i in range(4):\n",
    "    print(bt.getValues(i))\n",
    "print()\n",
    "\n",
    "# 0 children (leaf node)\n",
    "bt = BinaryTree()\n",
    "arr = [20, 10, 21, 8, 26, 22]\n",
    "for i in arr:\n",
    "    bt.insert(i)\n",
    "bt.remove(8)\n",
    "print('Case: Removing node (8) with 0 children from (T)')   \n",
    "for i in range(4):\n",
    "    print(bt.getValues(i))\n",
    "print()\n",
    "\n",
    "# 1 child    \n",
    "bt = BinaryTree()\n",
    "arr = [20, 10, 21, 8, 26, 22]\n",
    "for i in arr:\n",
    "    bt.insert(i)\n",
    "bt.remove(26)\n",
    "print('Case: Removing node (26) with 1 child from (T)')   \n",
    "for i in range(4):\n",
    "    print(bt.getValues(i))\n",
    "print()\n",
    "\n",
    "# 2 children\n",
    "bt = BinaryTree()\n",
    "arr = [20, 10, 21, 8, 26, 22]\n",
    "for i in arr:\n",
    "    bt.insert(i)\n",
    "bt.remove(20)\n",
    "print('Case: Removing node (20) with 2 children from (T)')  \n",
    "for i in range(4):\n",
    "    print(bt.getValues(i))"
   ]
  },
  {
   "cell_type": "markdown",
   "metadata": {},
   "source": [
    "Looks prety good"
   ]
  },
  {
   "cell_type": "markdown",
   "metadata": {},
   "source": [
    "### Problem 3"
   ]
  },
  {
   "cell_type": "markdown",
   "metadata": {},
   "source": [
    "#### Part 1: Parse the .csv file into a numpy array"
   ]
  },
  {
   "cell_type": "code",
   "execution_count": 509,
   "metadata": {},
   "outputs": [
    {
     "data": {
      "text/plain": [
       "array([[0.4 , 0.3 , 0.1 , 0.05, 0.1 , 0.05],\n",
       "       [0.3 , 0.4 , 0.1 , 0.1 , 0.08, 0.02],\n",
       "       [0.2 , 0.3 , 0.35, 0.05, 0.05, 0.05],\n",
       "       [0.1 , 0.2 , 0.25, 0.3 , 0.1 , 0.05],\n",
       "       [0.15, 0.2 , 0.1 , 0.15, 0.3 , 0.1 ],\n",
       "       [0.1 , 0.2 , 0.35, 0.1 , 0.05, 0.2 ]])"
      ]
     },
     "execution_count": 509,
     "metadata": {},
     "output_type": "execute_result"
    }
   ],
   "source": [
    "import numpy as np\n",
    "weather = np.genfromtxt('weather.csv', delimiter=',')\n",
    "weather"
   ]
  },
  {
   "cell_type": "markdown",
   "metadata": {},
   "source": [
    "#### Part 2: Create a class called `Markov`"
   ]
  },
  {
   "cell_type": "code",
   "execution_count": 549,
   "metadata": {},
   "outputs": [
    {
     "name": "stdout",
     "output_type": "stream",
     "text": [
      "0.3\n"
     ]
    }
   ],
   "source": [
    "class Markov:\n",
    "    def __init__(self):\n",
    "        pass\n",
    "        \n",
    "    def load_data(self, array):\n",
    "        self.data = array\n",
    "    \n",
    "    def get_prob(self, previous_day, following_day):\n",
    "        weather_names = {'sunny':0, 'cloudy':1, 'rainy':2, \n",
    "                 'snowy':3, 'windy':4, 'hailing':5}\n",
    "        before_idx = weather_names[previous_day]\n",
    "        after_idx = weather_names[following_day]\n",
    "        return self.data[before_idx][after_idx]\n",
    "\n",
    "weather_today = Markov()\n",
    "weather_today.load_data(weather)\n",
    "print(weather_today.get_prob('sunny', 'cloudy'))"
   ]
  }
 ],
 "metadata": {
  "kernelspec": {
   "display_name": "Python 3",
   "language": "python",
   "name": "python3"
  },
  "language_info": {
   "codemirror_mode": {
    "name": "ipython",
    "version": 3
   },
   "file_extension": ".py",
   "mimetype": "text/x-python",
   "name": "python",
   "nbconvert_exporter": "python",
   "pygments_lexer": "ipython3",
   "version": "3.6.5"
  },
  "toc": {
   "colors": {
    "hover_highlight": "#DAA520",
    "navigate_num": "#fc151b",
    "navigate_text": "#92a2be",
    "running_highlight": "#FF0000",
    "selected_highlight": "#FFD700",
    "sidebar_border": "#EEEEEE",
    "wrapper_background": "#FFFFFF"
   },
   "moveMenuLeft": true,
   "nav_menu": {
    "height": "178px",
    "width": "450px"
   },
   "navigate_menu": true,
   "number_sections": false,
   "sideBar": true,
   "threshold": 4,
   "toc_cell": false,
   "toc_section_display": "block",
   "toc_window_display": false,
   "widenNotebook": false
  }
 },
 "nbformat": 4,
 "nbformat_minor": 2
}
