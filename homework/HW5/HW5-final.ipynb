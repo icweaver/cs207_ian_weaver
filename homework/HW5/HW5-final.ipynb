{
 "cells": [
  {
   "cell_type": "code",
   "execution_count": 1,
   "metadata": {},
   "outputs": [],
   "source": [
    "# auto refresh modules (makes testing external modules more convenient)\n",
    "%reload_ext autoreload\n",
    "%autoreload 2"
   ]
  },
  {
   "cell_type": "markdown",
   "metadata": {},
   "source": [
    "# Part 1: Data Structures [90 points]"
   ]
  },
  {
   "cell_type": "markdown",
   "metadata": {},
   "source": [
    "## Problem 1: Linked List Class"
   ]
  },
  {
   "cell_type": "code",
   "execution_count": 2,
   "metadata": {},
   "outputs": [],
   "source": [
    "import llst"
   ]
  },
  {
   "cell_type": "markdown",
   "metadata": {},
   "source": [
    "### Test Output"
   ]
  },
  {
   "cell_type": "code",
   "execution_count": 3,
   "metadata": {},
   "outputs": [
    {
     "data": {
      "text/plain": [
       "[None, None]"
      ]
     },
     "execution_count": 3,
     "metadata": {},
     "output_type": "execute_result"
    }
   ],
   "source": [
    "ll = llst.LinkedList(None)\n",
    "ll._headNode"
   ]
  },
  {
   "cell_type": "code",
   "execution_count": 4,
   "metadata": {},
   "outputs": [
    {
     "name": "stdout",
     "output_type": "stream",
     "text": [
      "llst.LinkedList(1.0) 1 [1.0, None]\n",
      "llst.LinkedList(-1.0) 2 [-1.0, [1.0, None]]\n",
      "llst.LinkedList(-1.0) 3 [-1.0, [1.0, [3.0, None]]]\n",
      "trying to index empty list\n",
      "-1.0 1.0 3.0\n"
     ]
    },
    {
     "data": {
      "text/plain": [
       "llst.LinkedList(-1.0)"
      ]
     },
     "execution_count": 4,
     "metadata": {},
     "output_type": "execute_result"
    }
   ],
   "source": [
    "ll = llst.LinkedList(1.0)\n",
    "print(ll, len(ll), ll._headNode)\n",
    "\n",
    "ll.insert_front(-1.0)\n",
    "print(ll, len(ll), ll._headNode)\n",
    "\n",
    "ll.insert_back(3.0)\n",
    "print(ll, len(ll), ll._headNode)\n",
    "\n",
    "print(ll[0], ll[1], ll[2])\n",
    "\n",
    "eval(repr(ll))"
   ]
  },
  {
   "cell_type": "markdown",
   "metadata": {},
   "source": [
    "## Problem 2: Binary Tree Class"
   ]
  },
  {
   "cell_type": "code",
   "execution_count": 5,
   "metadata": {},
   "outputs": [],
   "source": [
    "import bst"
   ]
  },
  {
   "cell_type": "markdown",
   "metadata": {},
   "source": [
    "### Testing"
   ]
  },
  {
   "cell_type": "markdown",
   "metadata": {},
   "source": [
    "#### Case: Base"
   ]
  },
  {
   "cell_type": "markdown",
   "metadata": {},
   "source": [
    "Trying this out for the sample tree in this assignemnt gives"
   ]
  },
  {
   "cell_type": "code",
   "execution_count": 6,
   "metadata": {
    "scrolled": false
   },
   "outputs": [
    {
     "name": "stdout",
     "output_type": "stream",
     "text": [
      "[20]\n",
      "[10, None]\n",
      "[3, 17, None, None]\n",
      "[0, None, 14, None, None, None, None, None]\n"
     ]
    }
   ],
   "source": [
    "bt = bst.BinaryTree()\n",
    "arr = [20, 10, 17, 14, 3, 0]\n",
    "for i in arr:\n",
    "    bt.insert(i)\n",
    "\n",
    "for i in range(len(bt)):\n",
    "    print(bt.getValues(i))"
   ]
  },
  {
   "cell_type": "markdown",
   "metadata": {},
   "source": [
    "Checks out"
   ]
  },
  {
   "cell_type": "markdown",
   "metadata": {},
   "source": [
    "#### Case: Irregular, Sparse Tree"
   ]
  },
  {
   "cell_type": "markdown",
   "metadata": {},
   "source": [
    "What if the tree has a bunch of empty space in its interior (like a \"V\"-shaped tree), and like one lone leaf node way off somwhere near the bottom right of the tree?"
   ]
  },
  {
   "cell_type": "code",
   "execution_count": 7,
   "metadata": {},
   "outputs": [
    {
     "name": "stdout",
     "output_type": "stream",
     "text": [
      "[20]\n",
      "[10, 21]\n",
      "[8, None, None, 26]\n",
      "[None, None, None, None, None, None, 22, None]\n"
     ]
    }
   ],
   "source": [
    "bt = bst.BinaryTree()\n",
    "arr = [20, 10, 21, 8, 26, 22]\n",
    "for i in arr:\n",
    "    bt.insert(i)\n",
    "\n",
    "for i in range(len(bt)):\n",
    "    print(bt.getValues(i))"
   ]
  },
  {
   "cell_type": "markdown",
   "metadata": {},
   "source": [
    "Awesome. It looks like this implementation also takes into account skipping over large gaps in a given level."
   ]
  },
  {
   "cell_type": "markdown",
   "metadata": {},
   "source": [
    "#### Case: Removal"
   ]
  },
  {
   "cell_type": "markdown",
   "metadata": {},
   "source": [
    "Okay, but what if we remove a node that has 0, 1, or 2 children?"
   ]
  },
  {
   "cell_type": "code",
   "execution_count": 8,
   "metadata": {},
   "outputs": [
    {
     "name": "stdout",
     "output_type": "stream",
     "text": [
      "Sample tree (T)\n",
      "[20]\n",
      "[10, 21]\n",
      "[8, None, None, 26]\n",
      "[None, None, None, None, None, None, 22, None]\n",
      "\n",
      "Case: Removing node (8) with 0 children from (T)\n",
      "[20]\n",
      "[10, 21]\n",
      "[8, None, None, 26]\n",
      "[None, None, None, None, None, None, 22, None]\n",
      "\n",
      "Case: Removing node (26) with 1 child from (T)\n",
      "[20]\n",
      "[10, 21]\n",
      "[8, None, None, 22]\n",
      "\n",
      "Case: Removing node (20) with 2 children from (T)\n",
      "[10]\n",
      "[8, 21]\n",
      "[None, None, None, 26]\n",
      "[None, None, None, None, None, None, 22, None]\n"
     ]
    }
   ],
   "source": [
    "# test tree\n",
    "bt = bst.BinaryTree()\n",
    "arr = [20, 10, 21, 8, 26, 22]\n",
    "for i in arr:\n",
    "    bt.insert(i)\n",
    "print('Sample tree (T)')   \n",
    "for i in range(len(bt)):\n",
    "    print(bt.getValues(i))\n",
    "print()\n",
    "\n",
    "# 0 children (leaf node)\n",
    "bt = bst.BinaryTree()\n",
    "arr = [20, 10, 21, 8, 26, 22]\n",
    "for i in arr:\n",
    "    bt.insert(i)\n",
    "bt.remove(8)\n",
    "print('Case: Removing node (8) with 0 children from (T)')   \n",
    "for i in range(len(bt)):\n",
    "    print(bt.getValues(i))\n",
    "print()\n",
    "\n",
    "# 1 child    \n",
    "bt = bst.BinaryTree()\n",
    "arr = [20, 10, 21, 8, 26, 22]\n",
    "for i in arr:\n",
    "    bt.insert(i)\n",
    "bt.remove(26)\n",
    "print('Case: Removing node (26) with 1 child from (T)')   \n",
    "for i in range(len(bt)):\n",
    "    print(bt.getValues(i))\n",
    "print()\n",
    "\n",
    "# 2 children\n",
    "bt = bst.BinaryTree()\n",
    "arr = [20, 10, 21, 8, 26, 22]\n",
    "for i in arr:\n",
    "    bt.insert(i)\n",
    "bt.remove(20)\n",
    "print('Case: Removing node (20) with 2 children from (T)')  \n",
    "for i in range(len(bt)):\n",
    "    print(bt.getValues(i))"
   ]
  },
  {
   "cell_type": "markdown",
   "metadata": {},
   "source": [
    "Looks pretty good"
   ]
  },
  {
   "cell_type": "markdown",
   "metadata": {},
   "source": [
    "#### Case: Trying to print a row that doesn't exist"
   ]
  },
  {
   "cell_type": "code",
   "execution_count": 9,
   "metadata": {},
   "outputs": [
    {
     "ename": "IndexError",
     "evalue": "specified depth larger than max tree height=4",
     "output_type": "error",
     "traceback": [
      "\u001b[0;31m---------------------------------------------------------------------------\u001b[0m",
      "\u001b[0;31mIndexError\u001b[0m                                Traceback (most recent call last)",
      "\u001b[0;32m<ipython-input-9-09dd80eb50b0>\u001b[0m in \u001b[0;36m<module>\u001b[0;34m()\u001b[0m\n\u001b[1;32m      4\u001b[0m     \u001b[0mbt\u001b[0m\u001b[0;34m.\u001b[0m\u001b[0minsert\u001b[0m\u001b[0;34m(\u001b[0m\u001b[0mi\u001b[0m\u001b[0;34m)\u001b[0m\u001b[0;34m\u001b[0m\u001b[0m\n\u001b[1;32m      5\u001b[0m \u001b[0;34m\u001b[0m\u001b[0m\n\u001b[0;32m----> 6\u001b[0;31m \u001b[0mbt\u001b[0m\u001b[0;34m.\u001b[0m\u001b[0mgetValues\u001b[0m\u001b[0;34m(\u001b[0m\u001b[0;36m6\u001b[0m\u001b[0;34m)\u001b[0m\u001b[0;34m\u001b[0m\u001b[0m\n\u001b[0m",
      "\u001b[0;32m~/Dropbox/class/cs207/cs207_ian_weaver/homework/HW5/bst.py\u001b[0m in \u001b[0;36mgetValues\u001b[0;34m(self, depth)\u001b[0m\n\u001b[1;32m     97\u001b[0m         \u001b[0;32mif\u001b[0m \u001b[0mdepth\u001b[0m\u001b[0;34m+\u001b[0m\u001b[0;36m1\u001b[0m \u001b[0;34m>\u001b[0m \u001b[0mlen\u001b[0m\u001b[0;34m(\u001b[0m\u001b[0mself\u001b[0m\u001b[0;34m)\u001b[0m\u001b[0;34m:\u001b[0m\u001b[0;34m\u001b[0m\u001b[0m\n\u001b[1;32m     98\u001b[0m             \u001b[0mm\u001b[0m \u001b[0;34m=\u001b[0m \u001b[0;34mf'specified depth larger than max tree height={len(self)}'\u001b[0m\u001b[0;34m\u001b[0m\u001b[0m\n\u001b[0;32m---> 99\u001b[0;31m             \u001b[0;32mraise\u001b[0m \u001b[0mIndexError\u001b[0m\u001b[0;34m(\u001b[0m\u001b[0mm\u001b[0m\u001b[0;34m)\u001b[0m\u001b[0;34m\u001b[0m\u001b[0m\n\u001b[0m\u001b[1;32m    100\u001b[0m \u001b[0;34m\u001b[0m\u001b[0m\n\u001b[1;32m    101\u001b[0m         \u001b[0;32mif\u001b[0m \u001b[0mdepth\u001b[0m \u001b[0;34m==\u001b[0m \u001b[0;36m0\u001b[0m\u001b[0;34m:\u001b[0m \u001b[0;31m# root case\u001b[0m\u001b[0;34m\u001b[0m\u001b[0m\n",
      "\u001b[0;31mIndexError\u001b[0m: specified depth larger than max tree height=4"
     ]
    }
   ],
   "source": [
    "bt = bst.BinaryTree()\n",
    "arr = [20, 10, 21, 8, 26, 22]\n",
    "for i in arr:\n",
    "    bt.insert(i)\n",
    "\n",
    "bt.getValues(6)"
   ]
  },
  {
   "cell_type": "markdown",
   "metadata": {},
   "source": [
    "Good, the error is caught instead of printing out a row of 64 `None`s"
   ]
  },
  {
   "cell_type": "markdown",
   "metadata": {},
   "source": [
    "## Problem 3"
   ]
  },
  {
   "cell_type": "markdown",
   "metadata": {},
   "source": [
    "### Part 1: Parse the .csv file into a numpy array"
   ]
  },
  {
   "cell_type": "code",
   "execution_count": 10,
   "metadata": {},
   "outputs": [
    {
     "data": {
      "text/plain": [
       "array([[0.4 , 0.3 , 0.1 , 0.05, 0.1 , 0.05],\n",
       "       [0.3 , 0.4 , 0.1 , 0.1 , 0.08, 0.02],\n",
       "       [0.2 , 0.3 , 0.35, 0.05, 0.05, 0.05],\n",
       "       [0.1 , 0.2 , 0.25, 0.3 , 0.1 , 0.05],\n",
       "       [0.15, 0.2 , 0.1 , 0.15, 0.3 , 0.1 ],\n",
       "       [0.1 , 0.2 , 0.35, 0.1 , 0.05, 0.2 ]])"
      ]
     },
     "execution_count": 10,
     "metadata": {},
     "output_type": "execute_result"
    }
   ],
   "source": [
    "import numpy as np\n",
    "weather = np.genfromtxt('weather.csv', delimiter=',')\n",
    "weather"
   ]
  },
  {
   "cell_type": "markdown",
   "metadata": {},
   "source": [
    "### Part 2: Create a class called `Markov`"
   ]
  },
  {
   "cell_type": "code",
   "execution_count": 11,
   "metadata": {},
   "outputs": [],
   "source": [
    "import markov"
   ]
  },
  {
   "cell_type": "code",
   "execution_count": 12,
   "metadata": {},
   "outputs": [
    {
     "name": "stdout",
     "output_type": "stream",
     "text": [
      "0.3\n"
     ]
    }
   ],
   "source": [
    "weather_today = markov.Markov()\n",
    "weather_today.load_data(weather)\n",
    "print(weather_today.get_prob('sunny', 'cloudy'))"
   ]
  },
  {
   "cell_type": "markdown",
   "metadata": {},
   "source": [
    "# Part 2: Feedback [10 point]"
   ]
  },
  {
   "cell_type": "markdown",
   "metadata": {},
   "source": [
    "## Problem 4: Course Evaluation"
   ]
  },
  {
   "cell_type": "markdown",
   "metadata": {},
   "source": [
    "Submitted"
   ]
  }
 ],
 "metadata": {
  "kernelspec": {
   "display_name": "Python 3",
   "language": "python",
   "name": "python3"
  },
  "language_info": {
   "codemirror_mode": {
    "name": "ipython",
    "version": 3
   },
   "file_extension": ".py",
   "mimetype": "text/x-python",
   "name": "python",
   "nbconvert_exporter": "python",
   "pygments_lexer": "ipython3",
   "version": "3.6.5"
  },
  "toc": {
   "colors": {
    "hover_highlight": "#DAA520",
    "navigate_num": "#fc151b",
    "navigate_text": "#92a2be",
    "running_highlight": "#FF0000",
    "selected_highlight": "#FFD700",
    "sidebar_border": "#EEEEEE",
    "wrapper_background": "#FFFFFF"
   },
   "moveMenuLeft": true,
   "nav_menu": {
    "height": "178px",
    "width": "450px"
   },
   "navigate_menu": true,
   "number_sections": false,
   "sideBar": true,
   "threshold": 4,
   "toc_cell": false,
   "toc_section_display": "block",
   "toc_window_display": false,
   "widenNotebook": false
  }
 },
 "nbformat": 4,
 "nbformat_minor": 2
}
