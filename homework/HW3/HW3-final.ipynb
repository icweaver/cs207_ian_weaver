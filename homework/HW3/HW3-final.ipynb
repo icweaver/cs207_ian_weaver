{
 "cells": [
  {
   "cell_type": "markdown",
   "metadata": {},
   "source": [
    "# HW3"
   ]
  },
  {
   "cell_type": "code",
   "execution_count": 382,
   "metadata": {},
   "outputs": [],
   "source": [
    "import numpy as np\n",
    "import matplotlib.pyplot as plt\n",
    "import seaborn as sns\n",
    "sns.set_context('talk')\n",
    "%matplotlib notebook\n",
    "%config InlineBackend.figure_format = 'retina'"
   ]
  },
  {
   "cell_type": "markdown",
   "metadata": {},
   "source": [
    "## Problem 1: Linear Regression Class [40pts]"
   ]
  },
  {
   "cell_type": "markdown",
   "metadata": {},
   "source": [
    "### Part 1: Base Class"
   ]
  },
  {
   "cell_type": "code",
   "execution_count": 87,
   "metadata": {},
   "outputs": [],
   "source": [
    "class Regression(object):\n",
    "    \n",
    "    def __init__(self):\n",
    "        self.params = {}\n",
    "    \n",
    "    def get_params(self):\n",
    "        # return best fit params (B-hat) from fit()\n",
    "        return self.params\n",
    "    \n",
    "    def set_params(self, **kwargs):\n",
    "        # TODO\n",
    "        pass\n",
    "    \n",
    "    def fit(self, X, y):\n",
    "        # fits linear model supplied from subclass to X and y \n",
    "        # and stores best fit coeffs (b_hat) in params dict\n",
    "        \"\"\"Fit model.\"\"\"\n",
    "    \n",
    "    def predict(self, X):\n",
    "        # TODO\n",
    "        pass \n",
    "    \n",
    "    def score(self, X, y):\n",
    "        # TODO\n",
    "        pass"
   ]
  },
  {
   "cell_type": "markdown",
   "metadata": {},
   "source": [
    "### Part 2: OLS Linear Regression"
   ]
  },
  {
   "cell_type": "code",
   "execution_count": 753,
   "metadata": {},
   "outputs": [],
   "source": [
    "class LinearRegression(Regression):\n",
    "    \n",
    "    def __init__(self):\n",
    "        self.M = 0\n",
    "        super().__init__() # to maintina access to params dict\n",
    "    #    self.M = M # for Ridge. M=0 for OLS by default\n",
    "        \n",
    "    def fit(self, X, y):\n",
    "        #self.M = 0 # for Ridge. M=0 for OLS by default\n",
    "        # create design matrix (padding with ones column)\n",
    "        if X.ndim == 1: # just duplicate the same observation\n",
    "            X = np.insert(X, 0, 1)\n",
    "            X = np.tile(X, (len(X), 1))\n",
    "        else:\n",
    "            num_rows = X.shape[0]\n",
    "            intercept_coeffs = np.ones(num_rows)\n",
    "            X = np.column_stack((intercept_coeffs, X))\n",
    "        \n",
    "        # compute B_hat\n",
    "        X_inv = np.linalg.pinv(X)\n",
    "        y = np.array([y]).T # convert to column vector\n",
    "        B_hat = np.linalg.pinv(X.T.dot(X) + self.M).dot(X.T).dot(y)\n",
    "        # return params\n",
    "        B_hat = B_hat.ravel() # convert to 1D array\n",
    "        self.params['intercept'] = B_hat[0]\n",
    "        self.params['coeffs'] = B_hat[1:]"
   ]
  },
  {
   "cell_type": "markdown",
   "metadata": {
    "heading_collapsed": true
   },
   "source": [
    "### Part 3: Ridge Regression"
   ]
  },
  {
   "cell_type": "code",
   "execution_count": 693,
   "metadata": {
    "hidden": true
   },
   "outputs": [],
   "source": [
    "class RidgeRegression(LinearRegression):\n",
    "    def __init__(self, alpha):\n",
    "        super().__init__() # get access to params dict\n",
    "        self.alpha = alpha\n",
    "        self.M = self.get_M() # overwrite default OLS M=0\n",
    "    #Gamma = self.alpha*np.identity(len(X.T.dot(X))) # Ridge\n",
    "    #M = Gamma.\n",
    "    #M = 2\n",
    "    \n",
    "    def get_M(self):\n",
    "        # Gamma = alpha * I\n",
    "        # The +1 accounts for extra column of 1's to give I the\n",
    "        # right dimensions\n",
    "        Gamma = self.alpha*np.identity(len(X.T.dot(X)) + 1)\n",
    "        return Gamma.T.dot(Gamma)"
   ]
  },
  {
   "cell_type": "code",
   "execution_count": 377,
   "metadata": {
    "hidden": true
   },
   "outputs": [
    {
     "data": {
      "text/plain": [
       "{'intercept': -0.6194165338507149, 'coeffs': array([0.50422701, 1.52991823])}"
      ]
     },
     "execution_count": 377,
     "metadata": {},
     "output_type": "execute_result"
    }
   ],
   "source": [
    "ridge_fit = RidgeRegression(alpha=0)\n",
    "ridge_fit.fit(X, y)\n",
    "ridge_fit.get_params()"
   ]
  },
  {
   "cell_type": "markdown",
   "metadata": {},
   "source": [
    "### Part 4: Model Scoring"
   ]
  },
  {
   "cell_type": "markdown",
   "metadata": {},
   "source": [
    "###### Import the data"
   ]
  },
  {
   "cell_type": "code",
   "execution_count": 485,
   "metadata": {},
   "outputs": [],
   "source": [
    "from sklearn import datasets\n",
    "dataset = datasets.load_boston()"
   ]
  },
  {
   "cell_type": "markdown",
   "metadata": {},
   "source": [
    "###### Poke around inside"
   ]
  },
  {
   "cell_type": "code",
   "execution_count": 486,
   "metadata": {
    "scrolled": true
   },
   "outputs": [
    {
     "name": "stdout",
     "output_type": "stream",
     "text": [
      "data (506, 13):\n",
      "\n",
      "target (506,):\n",
      "\n",
      "feature_names (13,):\n",
      "\n",
      "DESCR ():\n",
      "\n"
     ]
    }
   ],
   "source": [
    "# just looking at everything stored inside the dict\n",
    "width = 20\n",
    "for k, v in dataset.items():\n",
    "    print(f\"{k} {np.shape(v)}:\\n\")"
   ]
  },
  {
   "cell_type": "markdown",
   "metadata": {},
   "source": [
    "###### Let's take a look inside the \"empty\" `DESCR` field "
   ]
  },
  {
   "cell_type": "code",
   "execution_count": null,
   "metadata": {
    "scrolled": true
   },
   "outputs": [
    {
     "name": "stdout",
     "output_type": "stream",
     "text": [
      "Boston House Prices dataset\n",
      "===========================\n",
      "\n",
      "Notes\n",
      "------\n",
      "Data Set Characteristics:  \n",
      "\n",
      "    :Number of Instances: 506 \n",
      "\n",
      "    :Number of Attributes: 13 numeric/categorical predictive\n",
      "    \n",
      "    :Median Value (attribute 14) is usually the target\n",
      "\n",
      "    :Attribute Information (in order):\n",
      "        - CRIM     per capita crime rate by town\n",
      "        - ZN       proportion of residential land zoned for lots over 25,000 sq.ft.\n",
      "        - INDUS    proportion of non-retail business acres per town\n",
      "        - CHAS     Charles River dummy variable (= 1 if tract bounds river; 0 otherwise)\n",
      "        - NOX      nitric oxides concentration (parts per 10 million)\n",
      "        - RM       average number of rooms per dwelling\n",
      "        - AGE      proportion of owner-occupied units built prior to 1940\n",
      "        - DIS      weighted distances to five Boston employment centres\n",
      "        - RAD      index of accessibility to radial highways\n",
      "        - TAX      full-value property-tax rate per $10,000\n",
      "        - PTRATIO  pupil-teacher ratio by town\n",
      "        - B        1000(Bk - 0.63)^2 where Bk is the proportion of blacks by town\n",
      "        - LSTAT    % lower status of the population\n",
      "        - MEDV     Median value of owner-occupied homes in $1000's\n",
      "\n",
      "    :Missing Attribute Values: None\n",
      "\n",
      "    :Creator: Harrison, D. and Rubinfeld, D.L.\n",
      "\n",
      "This is a copy of UCI ML housing dataset.\n",
      "http://archive.ics.uci.edu/ml/datasets/Housing\n",
      "\n",
      "\n",
      "This dataset was taken from the StatLib library which is maintained at Carnegie Mellon University.\n",
      "\n",
      "The Boston house-price data of Harrison, D. and Rubinfeld, D.L. 'Hedonic\n",
      "prices and the demand for clean air', J. Environ. Economics & Management,\n",
      "vol.5, 81-102, 1978.   Used in Belsley, Kuh & Welsch, 'Regression diagnostics\n",
      "...', Wiley, 1980.   N.B. Various transformations are used in the table on\n",
      "pages 244-261 of the latter.\n",
      "\n",
      "The Boston house-price data has been used in many machine learning papers that address regression\n",
      "problems.   \n",
      "     \n",
      "**References**\n",
      "\n",
      "   - Belsley, Kuh & Welsch, 'Regression diagnostics: Identifying Influential Data and Sources of Collinearity', Wiley, 1980. 244-261.\n",
      "   - Quinlan,R. (1993). Combining Instance-Based and Model-Based Learning. In Proceedings on the Tenth International Conference of Machine Learning, 236-243, University of Massachusetts, Amherst. Morgan Kaufmann.\n",
      "   - many more! (see http://archive.ics.uci.edu/ml/datasets/Housing)\n",
      "\n"
     ]
    }
   ],
   "source": [
    "print(dataset['DESCR'])"
   ]
  },
  {
   "cell_type": "markdown",
   "metadata": {},
   "source": [
    "######  The dataset description in `dataset['DESR']` tells us that there are 14 columns, but there are only 13 in `dataset.data` according to its shape though. This means that the 14th column is probably stored in the only other key whose value is a 1-D array, `dataset['target']` . This is also noted as \"Median Value (attribute 14) is usually the target\" in the `DESCR` field. I'll just tack this on to the end of the 2-D array and display it as a `pandas` DataFrame"
   ]
  },
  {
   "cell_type": "code",
   "execution_count": null,
   "metadata": {},
   "outputs": [
    {
     "data": {
      "text/plain": [
       "CRIM         0.00632\n",
       "ZN          18.00000\n",
       "INDUS        2.31000\n",
       "CHAS         0.00000\n",
       "NOX          0.53800\n",
       "             ...    \n",
       "TAX        296.00000\n",
       "PTRATIO     15.30000\n",
       "B          396.90000\n",
       "LSTAT        4.98000\n",
       "target      24.00000\n",
       "Name: 0, Length: 14, dtype: float64"
      ]
     },
     "execution_count": 492,
     "metadata": {},
     "output_type": "execute_result"
    }
   ],
   "source": [
    "import pandas as pd\n",
    "pd.options.display.max_rows = 10 # reduce how many rows are shown\n",
    "\n",
    "# I'm not using dot notation to access data and feature names because I am pretending that dataset is a dict and not an sklearn object for this HW.\n",
    "df = pd.DataFrame(dataset['data'], columns=dataset['feature_names'])\n",
    "target = 'target'\n",
    "df[target] = dataset[target] \n",
    "df.iloc[0]"
   ]
  },
  {
   "cell_type": "markdown",
   "metadata": {},
   "source": [
    "###### Ok, so it looks like each row is the stats for a town (or collection of homes?) and each column are some corresponding stats, with the last one being the median price in that particular  town in the  $1000's$.  "
   ]
  },
  {
   "cell_type": "markdown",
   "metadata": {},
   "source": [
    "#### Regression"
   ]
  },
  {
   "cell_type": "markdown",
   "metadata": {},
   "source": [
    "###### Recasting this as a linear regression problem: for any given town $i$, $y_i$ is the observed target median price corresponding to homes in that town and $x_{ij}$ is the $j$th statistic that was also measured for town $i$, corresponding to the $j$ column in row $i$ of the table shown above. For the $p$ regressors (number of columns, not including the target column), \n",
    "\n",
    "\\begin{align}\n",
    "    y_i = \\sum_{j=0}^{p} x_{ij}\\beta_j + \\epsilon_i\\ , \n",
    "    (i = 1,2,\\dots, m)\\ ,\n",
    "\\end{align}"
   ]
  },
  {
   "cell_type": "markdown",
   "metadata": {},
   "source": [
    "###### where  $m$ is the number of towns (observations), $\\beta_i$ is some scalar coefficient, $\\epsilon_i$ is/are some unobserved random variable/s that account for influences on $y_i$ other than the collection of regressors $x_i$ that we happen to know about. Setting $x_{i0} = 0$ allows $(\\beta_0)$ to act  as our intercept. In matrix form, all of the $m$ models (number of rows in the table) can compactly be written as\n",
    "\\begin{align}\n",
    "    \\boldsymbol y = \\boldsymbol X \\boldsymbol\\beta + \\boldsymbol\\epsilon\n",
    "    \\ ,\n",
    "\\end{align}"
   ]
  },
  {
   "cell_type": "markdown",
   "metadata": {},
   "source": [
    "###### where $\\boldsymbol y$ is a column vector with length $m$, $\\boldsymbol X$ is an $m\\times n$ (design) matrix (where $n=p+1$, since it's just the data table above with a first column of ones and minus the target column), and $\\boldsymbol\\beta$ and $\\boldsymbol\\epsilon$ are also column  vectors of length $m$ composed of the $\\beta_i$'s and $\\epsilon_i$'s mentioned above. "
   ]
  },
  {
   "cell_type": "markdown",
   "metadata": {},
   "source": [
    "##### Game plan"
   ]
  },
  {
   "cell_type": "markdown",
   "metadata": {},
   "source": [
    "###### Alright, I'm going to use the first 405 models ($\\approx 80\\%$ of the data) as my training set to determine the best fit coefficients $\\boldsymbol{\\hat\\beta}$ found from OLS and Ridge to test on the reminaing 101 models, respectively, and score how well each predictive model does on the remaing 101 models in predicting the target housing price $y_i$."
   ]
  },
  {
   "cell_type": "code",
   "execution_count": 754,
   "metadata": {
    "scrolled": true
   },
   "outputs": [
    {
     "data": {
      "text/plain": [
       "{'intercept': 30.1834801417563,\n",
       " 'coeffs': array([-1.94651664e-01,  4.40677436e-02,  5.21447706e-02,  1.88823450e+00,\n",
       "        -1.49475195e+01,  4.76119492e+00,  2.62339333e-03, -1.30091291e+00,\n",
       "         4.60230476e-01, -1.55731325e-02, -8.11248033e-01, -2.18154708e-03,\n",
       "        -5.31513940e-01])}"
      ]
     },
     "execution_count": 754,
     "metadata": {},
     "output_type": "execute_result"
    }
   ],
   "source": [
    "num_models = 405\n",
    "training_input = dataset['data'][0:num_models, :]\n",
    "training_output = dataset['target'][0:num_models]\n",
    "X = training_input\n",
    "y = training_output\n",
    "\n",
    "lin_fit = LinearRegression()\n",
    "lin_fit.fit(X, y)\n",
    "lin_fit.get_params()"
   ]
  },
  {
   "cell_type": "markdown",
   "metadata": {},
   "source": [
    "## Problem 2 [10pts]"
   ]
  },
  {
   "cell_type": "markdown",
   "metadata": {},
   "source": [
    "### Part 1: Create a module"
   ]
  },
  {
   "cell_type": "markdown",
   "metadata": {},
   "source": [
    "###### Included in directory as `MathCS207.py`"
   ]
  },
  {
   "cell_type": "markdown",
   "metadata": {},
   "source": [
    "### Part 2: Import a whole module and use it"
   ]
  },
  {
   "cell_type": "code",
   "execution_count": 48,
   "metadata": {},
   "outputs": [
    {
     "name": "stdout",
     "output_type": "stream",
     "text": [
      "inputs: {'a': 1.0, 'b': 2.0}\n",
      "----------------------------\n",
      "addition (a + b): 3.0\n",
      "subtraction (a - b): -1.0\n",
      "multiplication (a*b): 2.0\n",
      "division (a/b): 0.5\n"
     ]
    }
   ],
   "source": [
    "import MathCS207\n",
    "\n",
    "# inputs\n",
    "inputs = {'a':1., 'b':2.}\n",
    "\n",
    "# show output from module\n",
    "print(\n",
    "    f\"inputs: {inputs}\\n----------------------------\\n\"\n",
    "    f\"addition (a + b): {MathCS207.add(**inputs)}\\n\"\n",
    "    f\"subtraction (a - b): {MathCS207.subtract(**inputs)}\\n\"\n",
    "    f\"multiplication (a*b): {MathCS207.multiply(**inputs)}\\n\"\n",
    "    f\"division (a/b): {MathCS207.divide(**inputs)}\"\n",
    ")"
   ]
  },
  {
   "cell_type": "markdown",
   "metadata": {},
   "source": [
    "### Part 3: Import a single function from a module and use it"
   ]
  },
  {
   "cell_type": "code",
   "execution_count": 49,
   "metadata": {},
   "outputs": [
    {
     "name": "stdout",
     "output_type": "stream",
     "text": [
      "3.0\n"
     ]
    }
   ],
   "source": [
    "from MathCS207 import add\n",
    "\n",
    "print(add(**inputs))"
   ]
  },
  {
   "cell_type": "markdown",
   "metadata": {},
   "source": [
    "### Part 4: Import a module by creating an alias of it and then use the alias"
   ]
  },
  {
   "cell_type": "code",
   "execution_count": 50,
   "metadata": {},
   "outputs": [
    {
     "name": "stdout",
     "output_type": "stream",
     "text": [
      "3.0\n"
     ]
    }
   ],
   "source": [
    "import MathCS207 as mathcs\n",
    "\n",
    "print(mathcs.add(**inputs))"
   ]
  },
  {
   "cell_type": "markdown",
   "metadata": {},
   "source": [
    "### Part 5: List every function definition inside the module MathCS207"
   ]
  },
  {
   "cell_type": "code",
   "execution_count": 52,
   "metadata": {},
   "outputs": [
    {
     "name": "stdout",
     "output_type": "stream",
     "text": [
      "['__builtins__', '__cached__', '__doc__', '__file__', '__loader__', '__name__', '__package__', '__spec__', 'add', 'divide', 'multiply', 'subtract']\n"
     ]
    }
   ],
   "source": [
    "print(dir(MathCS207))"
   ]
  },
  {
   "cell_type": "markdown",
   "metadata": {},
   "source": [
    "## Problem 3: Bank Account Revisited [50pts]"
   ]
  },
  {
   "cell_type": "markdown",
   "metadata": {},
   "source": [
    "###### Defining `SAVINGS` and `CHECKING` bank accounts"
   ]
  },
  {
   "cell_type": "code",
   "execution_count": 67,
   "metadata": {},
   "outputs": [],
   "source": [
    "from enum import Enum\n",
    "class AccountType(Enum):\n",
    "    SAVINGS = 1\n",
    "    CHECKING = 2"
   ]
  },
  {
   "cell_type": "markdown",
   "metadata": {},
   "source": [
    "### Part 1: Create a BankAccount class"
   ]
  },
  {
   "cell_type": "code",
   "execution_count": null,
   "metadata": {},
   "outputs": [],
   "source": [
    "class BankAccount():\n",
    "    \n",
    "    def __init__(self, owner, accountType):\n",
    "        self.owner = owner\n",
    "        self.accountType = accountType\n",
    "        \n",
    "    def withdraw(self, amount): \n",
    "        return \n",
    "    \n",
    "    def deposit(self, amount):"
   ]
  },
  {
   "cell_type": "markdown",
   "metadata": {},
   "source": [
    "### Part 2: Write a class BankUser"
   ]
  },
  {
   "cell_type": "code",
   "execution_count": null,
   "metadata": {},
   "outputs": [],
   "source": [
    "class BankUser():\n",
    "    \n",
    "    def __init__(self, owner):\n",
    "        self.owner = owner\n",
    "    \n",
    "    def addAccount(self, accountType):\n",
    "        \n",
    "    def getBalance(self, accountType):\n",
    "    \n",
    "    def deposit(self, accountType, amount): \n",
    "        \n",
    "    def withdraw(self, accountType, amount):"
   ]
  },
  {
   "cell_type": "code",
   "execution_count": 76,
   "metadata": {},
   "outputs": [
    {
     "name": "stdout",
     "output_type": "stream",
     "text": [
      "New balance: $349.50\n"
     ]
    }
   ],
   "source": [
    "def make_withdraw(balance):\n",
    "    def update_balance(debit):\n",
    "        # places the variable 'balance' in the outer scope of\n",
    "        # make_withdraw \n",
    "        # into the inner scope of update_balance\n",
    "        nonlocal balance\n",
    "        if debit <= balance:\n",
    "            balance -= debit\n",
    "            print(f\"New balance: ${balance:.2f}\")\n",
    "        else:\n",
    "            print(\"Please enter a withdrawl amount \" \n",
    "                  \"less than or equal to your current balance.\")\n",
    "    return update_balance\n",
    "\n",
    "init_balance = 500 # initial balance\n",
    "withdraw_amount = 150.50 # amount to withdraw\n",
    "\n",
    "wd = make_withdraw(init_balance)\n",
    "wd(withdraw_amount)"
   ]
  }
 ],
 "metadata": {
  "kernelspec": {
   "display_name": "Python 3",
   "language": "python",
   "name": "python3"
  },
  "language_info": {
   "codemirror_mode": {
    "name": "ipython",
    "version": 3
   },
   "file_extension": ".py",
   "mimetype": "text/x-python",
   "name": "python",
   "nbconvert_exporter": "python",
   "pygments_lexer": "ipython3",
   "version": "3.6.5"
  },
  "toc": {
   "colors": {
    "hover_highlight": "#DAA520",
    "navigate_num": "#fc151b",
    "navigate_text": "#92a2be",
    "running_highlight": "#FF0000",
    "selected_highlight": "#FFD700",
    "sidebar_border": "#EEEEEE",
    "wrapper_background": "#FFFFFF"
   },
   "moveMenuLeft": true,
   "nav_menu": {
    "height": "290px",
    "width": "676px"
   },
   "navigate_menu": true,
   "number_sections": false,
   "sideBar": true,
   "threshold": 4,
   "toc_cell": false,
   "toc_section_display": "block",
   "toc_window_display": false,
   "widenNotebook": false
  }
 },
 "nbformat": 4,
 "nbformat_minor": 2
}
