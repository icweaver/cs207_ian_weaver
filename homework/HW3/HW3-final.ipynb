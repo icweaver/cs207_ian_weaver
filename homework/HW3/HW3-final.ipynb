{
 "cells": [
  {
   "cell_type": "markdown",
   "metadata": {},
   "source": [
    "# HW3"
   ]
  },
  {
   "cell_type": "code",
   "execution_count": null,
   "metadata": {},
   "outputs": [],
   "source": [
    "import numpy as np\n",
    "import seaborn as sns\n",
    "sns.set_context('talk')\n",
    "%matplotlib notebook\n",
    "%config InlineBackend.figure_format = 'retina'"
   ]
  },
  {
   "cell_type": "markdown",
   "metadata": {},
   "source": [
    "## Problem 1: Linear Regression Class [40pts]"
   ]
  },
  {
   "cell_type": "markdown",
   "metadata": {},
   "source": [
    "### Part 1: Base Class"
   ]
  },
  {
   "cell_type": "code",
   "execution_count": null,
   "metadata": {},
   "outputs": [],
   "source": [
    "class Regression(object):\n",
    "    \n",
    "    def __init__(self):\n",
    "        self.params = {}\n",
    "    \n",
    "    def get_params(self):\n",
    "        # return best fit params (B-hat) from fit()\n",
    "        return self.params\n",
    "    \n",
    "    def set_params(self, **kwargs):\n",
    "        # TODO\n",
    "        pass\n",
    "    \n",
    "    def fit(self, X, y):\n",
    "        # fits linear model supplied from subclass to X and y \n",
    "        # and stores best fit coeffs (b_hat) in params dict\n",
    "        \"\"\"Fit model.\"\"\"\n",
    "    \n",
    "    def predict(self, X):\n",
    "        # TODO\n",
    "        pass \n",
    "    \n",
    "    def score(self, X, y):\n",
    "        # TODO\n",
    "        pass"
   ]
  },
  {
   "cell_type": "markdown",
   "metadata": {},
   "source": [
    "### Part 2: OLS Linear Regression"
   ]
  },
  {
   "cell_type": "code",
   "execution_count": null,
   "metadata": {},
   "outputs": [],
   "source": [
    "class LinearRegression(Regression):\n",
    "    \n",
    "    def fit(self, X, y):\n",
    "        #super.fit()\n",
    "        # create design matrix (padding with ones column)\n",
    "        intercept_coeffs = np.ones(len(X))\n",
    "        X = np.column_stack((intercept_coeffs, X))\n",
    "        \n",
    "        # compute B_hat\n",
    "        X_inv = np.linalg.pinv(X)\n",
    "        B_hat = np.linalg.pinv(X.T.dot(X)).dot(X.T).dot(y)\n",
    "        \n",
    "        self.params['intercept'] = B_hat[0]\n",
    "        self.params['coeffs'] = B_hat[1:]"
   ]
  },
  {
   "cell_type": "code",
   "execution_count": null,
   "metadata": {},
   "outputs": [],
   "source": [
    "# fake data\n",
    "x1 = np.array([3.1, 4.3, 5.4, 6.1, 6.9, 8.1])\n",
    "x2 = np.array([2.9, 4.1, 5.2, 6.3, 7.4, 8.3])\n",
    "X = np.column_stack((x1, x2))\n",
    "y = np.array([5, 8.4, 10.1, 11.7, 14.5, 16])\n",
    "\n",
    "lin_fit = LinearRegression()\n",
    "\n",
    "lin_fit.fit(X, y)\n",
    "lin_fit.get_params()"
   ]
  },
  {
   "cell_type": "markdown",
   "metadata": {},
   "source": [
    "## Problem 2 [10pts]"
   ]
  },
  {
   "cell_type": "markdown",
   "metadata": {},
   "source": [
    "### Part 1: Create a module"
   ]
  },
  {
   "cell_type": "markdown",
   "metadata": {},
   "source": [
    "###### Included in directory as `MathCS207.py`"
   ]
  },
  {
   "cell_type": "markdown",
   "metadata": {},
   "source": [
    "### Part 2: Import a whole module and use it"
   ]
  },
  {
   "cell_type": "code",
   "execution_count": 1,
   "metadata": {},
   "outputs": [
    {
     "name": "stdout",
     "output_type": "stream",
     "text": [
      "input: 2.0\n",
      "addition: 4.0\n",
      "subtraction: 0.0\n",
      "multiplication: 4.0\n",
      "division: 1.0\n"
     ]
    }
   ],
   "source": [
    "import MathCS207\n",
    "\n",
    "b = 2.\n",
    "\n",
    "# show output from module\n",
    "print(\n",
    "    f\"input: {b}\\n\"\n",
    "    f\"addition: {MathCS207.add(b, b)}\\n\"\n",
    "    f\"subtraction: {MathCS207.subtract(b, b)}\\n\"\n",
    "    f\"multiplication: {MathCS207.multiply(b, b)}\\n\"\n",
    "    f\"division: {MathCS207.divide(b, b)}\"\n",
    ")"
   ]
  },
  {
   "cell_type": "markdown",
   "metadata": {},
   "source": [
    "### Part 3: Import a single function from a module and use it"
   ]
  },
  {
   "cell_type": "code",
   "execution_count": null,
   "metadata": {},
   "outputs": [],
   "source": [
    "from MathCS207 import add\n",
    "\n",
    "print(add(b, b))"
   ]
  },
  {
   "cell_type": "markdown",
   "metadata": {},
   "source": [
    "### Part 4: Import a module by creating an alias of it and then use the alias"
   ]
  },
  {
   "cell_type": "code",
   "execution_count": null,
   "metadata": {},
   "outputs": [],
   "source": [
    "import MathCS207 as mathcs\n",
    "\n",
    "print(mathcs.add(b, b))"
   ]
  },
  {
   "cell_type": "markdown",
   "metadata": {},
   "source": [
    "### Part 5: List every function definition inside the module MathCS207"
   ]
  },
  {
   "cell_type": "code",
   "execution_count": 2,
   "metadata": {},
   "outputs": [
    {
     "name": "stdout",
     "output_type": "stream",
     "text": [
      "['__builtins__', '__cached__', '__doc__', '__file__', '__loader__', '__name__', '__package__', '__spec__', 'add', 'divide', 'multiply', 'subtract']\n"
     ]
    }
   ],
   "source": [
    "print(dir(MathCS207))"
   ]
  }
 ],
 "metadata": {
  "kernelspec": {
   "display_name": "Python 3",
   "language": "python",
   "name": "python3"
  },
  "language_info": {
   "codemirror_mode": {
    "name": "ipython",
    "version": 3
   },
   "file_extension": ".py",
   "mimetype": "text/x-python",
   "name": "python",
   "nbconvert_exporter": "python",
   "pygments_lexer": "ipython3",
   "version": "3.6.5"
  },
  "toc": {
   "colors": {
    "hover_highlight": "#DAA520",
    "navigate_num": "#fc151b",
    "navigate_text": "#92a2be",
    "running_highlight": "#FF0000",
    "selected_highlight": "#FFD700",
    "sidebar_border": "#EEEEEE",
    "wrapper_background": "#FFFFFF"
   },
   "moveMenuLeft": true,
   "nav_menu": {
    "height": "264px",
    "width": "679px"
   },
   "navigate_menu": true,
   "number_sections": false,
   "sideBar": true,
   "threshold": 4,
   "toc_cell": false,
   "toc_section_display": "block",
   "toc_window_display": false,
   "widenNotebook": false
  }
 },
 "nbformat": 4,
 "nbformat_minor": 2
}
