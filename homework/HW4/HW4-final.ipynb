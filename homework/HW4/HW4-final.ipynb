{
 "cells": [
  {
   "cell_type": "markdown",
   "metadata": {},
   "source": [
    "# HW4"
   ]
  },
  {
   "cell_type": "markdown",
   "metadata": {},
   "source": [
    "## Part 1: Automatic Differentiation [30 pts]"
   ]
  },
  {
   "cell_type": "markdown",
   "metadata": {},
   "source": [
    "### Problem 1: Basics"
   ]
  },
  {
   "cell_type": "markdown",
   "metadata": {},
   "source": [
    "#### Going to do some AD on this function\n",
    "$$\n",
    "\\begin{align*}\n",
    "    f(x,y,z) = \\frac{1}{xyz} \n",
    "    + \\sin\\left(\\frac{1}{x} + \\frac{1}{y} + \\frac{1}{z}\\right)\\quad.\n",
    "\\end{align*}\n",
    "$$"
   ]
  },
  {
   "cell_type": "markdown",
   "metadata": {},
   "source": [
    "#### Parts 1 and 2) Evaluation of $f(a)$ and $\\nabla f(a)$ for $a = (1, 2, 3)$\n",
    "\n",
    "Trace    | Elementary function | Current Value                               | Elementary Function Derivative                    |$\\nabla_x Value$                                |$\\nabla_y$ Value                             |$\\nabla_z$ Value         \n",
    "---------|---------------------|---------------------------------------------|---------------------------------------------------|------------------------------------------------|---------------------------------------------|-----------------\n",
    "$x_1   $ | $x_1=x$             | $1$                                         | $\\dot x_1$                                        | $1$                                            | $0$                                         | $0$                \n",
    "$x_2   $ | $x_2=y$             | $2$                                         | $\\dot x_2$                                        | $0$                                            | $1$                                         | $0$                \n",
    "$x_3   $ | $x_3=z$             | $3$                                         | $\\dot x_3$                                        | $0$                                            | $0$                                         | $1$                \n",
    "$x_4   $ | $x_1x_2x_3$         | $6$                                         | $x_1(x_2\\dot x_3 + \\dot x_2x_3) + \\dot x_1x_2x_3$ | $6$                                            | $3$                                         | $2$\n",
    "$x_5   $ | $\\frac{1}{x_4}$     | $1/6$                                       | $-\\frac{\\dot x_4}{x_4^2}$                         | $-\\frac{1}{6}$                                 | $-\\frac{1}{12}$                             | $-\\frac{1}{18}$\n",
    "$x_6   $ | $\\frac{1}{x_1}$     | $1$                                         | $-\\frac{\\dot x_1}{x_1^2}$                         | $-1$                                           | $0$                                         | $0$ \n",
    "$x_7   $ | $\\frac{1}{x_2}$     | $1/2$                                       | $-\\frac{\\dot x_2}{x_2^2}$                         | $0$                                            | $-\\frac{1}{4}$                              | $0$                                     \n",
    "$x_8   $ | $\\frac{1}{x_3}$     | $1/3$                                       | $-\\frac{\\dot x_3}{x_3^2}$                         | $0$                                            | $0$                                         | $-\\frac{1}{9}$         \n",
    "$x_9   $ | $x_6+x_7+x_8$       | $11/6$                                      | $\\dot x_6 + \\dot x_7 + \\dot x_8$                  | $-1$                                           | $-\\frac{1}{4}$                              | $-\\frac{1}{9}$\n",
    "$x_{10}$ | $\\sin(x_{9})$       | $\\sin\\left(\\frac{1}{6}\\right)$              | $\\dot x_9\\cos(x_9)$                               | $-\\cos\\left(\\frac{11}{6}\\right)$               | $-\\frac{1}{4}\\cos\\left(\\frac{11}{6}\\right)$ | $-\\frac{1}{9}\\cos\\left(\\frac{11}{6}\\right)$           \n",
    "$x_{11}$ | $x_5 + x_{10}$      | $\\frac{1}{6}+\\sin\\left(\\frac{11}{6}\\right)$ | $\\dot x_5 + \\dot x_{10}$                          | $-\\frac{1}{6} - \\cos\\left(\\frac{11}{6}\\right)$ | $-\\frac{1}{12} - \\frac{1}{4}\\cos\\left(\\frac{11}{6}\\right)$ | $-\\frac{1}{18} - \\frac{1}{9}\\cos\\left(\\frac{11}{6}\\right)$"
   ]
  },
  {
   "cell_type": "markdown",
   "metadata": {},
   "source": [
    "### Problem 2: AD with dual numbers"
   ]
  },
  {
   "cell_type": "markdown",
   "metadata": {},
   "source": [
    "Re-writing in terms of dual numbers, the $1/x$ term can be expressed as\n",
    "$$\n",
    "\\begin{align*}\n",
    "    \\frac{1}{x+\\epsilon x'} \n",
    "    = \\frac{x - \\epsilon x'}{(x + \\epsilon x')(x - \\epsilon x')}\n",
    "    = \\frac{x - \\epsilon x'}{x^2} = \\frac{1}{x} - \\epsilon\\frac{x'}{x^2}\\quad.\n",
    "\\end{align*}\n",
    "$$\n",
    "\n",
    "Subbing this into the equation for $f(x + \\epsilon x')$ and using the \n",
    "$\\sin(\\alpha + \\epsilon\\beta)$ identity,\n",
    "$$\n",
    "\\begin{align*}\n",
    "    f(x + \\epsilon x') &= \\frac{1}{x} - \\epsilon\\frac{x'}{x^2} \n",
    "    + \\sin\\left(\\frac{1}{x} - \\epsilon\\frac{x'}{x^2}\\right)\n",
    "    = \\frac{1}{x} - \\epsilon\\frac{x'}{x^2} + \\sin\\frac{1}{x}\n",
    "    - \\epsilon\\frac{x'}{x^2}\\cos\\frac{1}{x} \\\\\n",
    "    &= \\frac{1}{x} + \\sin\\frac{1}{x} \n",
    "    + \\epsilon\\left[-\\frac{x'}{x^2}\\left(1 + \\cos\\frac{1}{x}\\right)\\right]\\quad.\n",
    "\\end{align*}\n",
    "$$\n",
    "\n",
    "The dual part is our derivative,\n",
    "$$\n",
    "\\begin{align*}\n",
    "    \\boxed{f'(x) = - \\frac{1}{x^2}\\left(1 + \\cos\\frac{1}{x}\\right)}\\quad, \n",
    "\\end{align*}\n",
    "$$\n",
    "\n",
    "where $x' = \\text dx/\\text dx = 1$."
   ]
  }
 ],
 "metadata": {
  "kernelspec": {
   "display_name": "Python 3",
   "language": "python",
   "name": "python3"
  },
  "language_info": {
   "codemirror_mode": {
    "name": "ipython",
    "version": 3
   },
   "file_extension": ".py",
   "mimetype": "text/x-python",
   "name": "python",
   "nbconvert_exporter": "python",
   "pygments_lexer": "ipython3",
   "version": "3.6.5"
  },
  "toc": {
   "colors": {
    "hover_highlight": "#DAA520",
    "navigate_num": "#fc151b",
    "navigate_text": "#92a2be",
    "running_highlight": "#FF0000",
    "selected_highlight": "#FFD700",
    "sidebar_border": "#EEEEEE",
    "wrapper_background": "#FFFFFF"
   },
   "moveMenuLeft": true,
   "nav_menu": {
    "height": "189px",
    "width": "651px"
   },
   "navigate_menu": true,
   "number_sections": false,
   "sideBar": true,
   "threshold": 4,
   "toc_cell": false,
   "toc_section_display": "block",
   "toc_window_display": false,
   "widenNotebook": false
  }
 },
 "nbformat": 4,
 "nbformat_minor": 2
}
