{
 "cells": [
  {
   "cell_type": "markdown",
   "metadata": {},
   "source": [
    "# HW4"
   ]
  },
  {
   "cell_type": "markdown",
   "metadata": {},
   "source": [
    "## Part 1: Automatic Differentiation [30 pts]"
   ]
  },
  {
   "cell_type": "markdown",
   "metadata": {},
   "source": [
    "### Problem 1: Basics"
   ]
  },
  {
   "cell_type": "markdown",
   "metadata": {},
   "source": [
    "#### Going to do some AD on the function\n",
    "$$\n",
    "\\begin{align*}\n",
    "    f(x,y,z) = \\frac{1}{xyz} \n",
    "    + \\sin\\left(\\frac{1}{x} + \\frac{1}{y} + \\frac{1}{z}\\right)\\quad.\n",
    "\\end{align*}\n",
    "$$"
   ]
  },
  {
   "cell_type": "markdown",
   "metadata": {},
   "source": [
    "#### Parts 1 and 2) Evaluation of $f(a)$ and $\\nabla f(a)$ for $a = (1, 2, 3)$\n",
    "\n",
    "Trace    | Elementary function | Current Value                               | Elementary Function Derivative                    |$\\nabla_x Value$                                |$\\nabla_y$ Value                             |$\\nabla_z$ Value         \n",
    "---------|---------------------|---------------------------------------------|---------------------------------------------------|------------------------------------------------|---------------------------------------------|-----------------\n",
    "$x_1   $ | $x_1=x$             | $1$                                         | $\\dot x_1$                                        | $1$                                            | $0$                                         | $0$                \n",
    "$x_2   $ | $x_2=y$             | $2$                                         | $\\dot x_2$                                        | $0$                                            | $1$                                         | $0$                \n",
    "$x_3   $ | $x_3=z$             | $3$                                         | $\\dot x_3$                                        | $0$                                            | $0$                                         | $1$                \n",
    "$x_4   $ | $x_1x_2x_3$         | $6$                                         | $x_1(x_2\\dot x_3 + \\dot x_2x_3) + \\dot x_1x_2x_3$ | $6$                                            | $3$                                         | $2$\n",
    "$x_5   $ | $\\frac{1}{x_4}$     | $1/6$                                       | $-\\frac{\\dot x_4}{x_4^2}$                         | $-\\frac{1}{6}$                                 | $-\\frac{1}{12}$                             | $-\\frac{1}{18}$\n",
    "$x_6   $ | $\\frac{1}{x_1}$     | $1$                                         | $-\\frac{\\dot x_1}{x_1^2}$                         | $-1$                                           | $0$                                         | $0$ \n",
    "$x_7   $ | $\\frac{1}{x_2}$     | $1/2$                                       | $-\\frac{\\dot x_2}{x_2^2}$                         | $0$                                            | $-\\frac{1}{4}$                              | $0$                                     \n",
    "$x_8   $ | $\\frac{1}{x_3}$     | $1/3$                                       | $-\\frac{\\dot x_3}{x_3^2}$                         | $0$                                            | $0$                                         | $-\\frac{1}{9}$         \n",
    "$x_9   $ | $x_6+x_7+x_8$       | $11/6$                                      | $\\dot x_6 + \\dot x_7 + \\dot x_8$                  | $-1$                                           | $-\\frac{1}{4}$                              | $-\\frac{1}{9}$\n",
    "$x_{10}$ | $\\sin(x_{9})$       | $\\sin\\left(\\frac{1}{6}\\right)$              | $\\dot x_9\\cos(x_9)$                               | $-\\cos\\left(\\frac{11}{6}\\right)$               | $-\\frac{1}{4}\\cos\\left(\\frac{11}{6}\\right)$ | $-\\frac{1}{9}\\cos\\left(\\frac{11}{6}\\right)$           \n",
    "$x_{11}$ | $x_5 + x_{10}$      | $\\frac{1}{6}+\\sin\\left(\\frac{11}{6}\\right)$ | $\\dot x_5 + \\dot x_{10}$                          | $-\\frac{1}{6} - \\cos\\left(\\frac{11}{6}\\right)$ | $-\\frac{1}{12} - \\frac{1}{4}\\cos\\left(\\frac{11}{6}\\right)$ | $-\\frac{1}{18} - \\frac{1}{9}\\cos\\left(\\frac{11}{6}\\right)$"
   ]
  },
  {
   "cell_type": "markdown",
   "metadata": {},
   "source": [
    "### Problem 2: AD with dual numbers\n",
    "\n",
    "Re-writing in terms of dual numbers, the $1/x$ term can be expressed as\n",
    "$$\n",
    "\\begin{align*}\n",
    "    \\frac{1}{x+\\epsilon x'} \n",
    "    = \\frac{x - \\epsilon x'}{(x + \\epsilon x')(x - \\epsilon x')}\n",
    "    = \\frac{x - \\epsilon x'}{x^2} = \\frac{1}{x} - \\epsilon\\frac{x'}{x^2}\\quad.\n",
    "\\end{align*}\n",
    "$$\n",
    "\n",
    "Subbing this into the equation for $f(x + \\epsilon x')$ and using the \n",
    "$\\sin(\\alpha + \\epsilon\\beta)$ identity,\n",
    "$$\n",
    "\\begin{align*}\n",
    "    f(x + \\epsilon x') &= \\frac{1}{x} - \\epsilon\\frac{x'}{x^2} \n",
    "    + \\sin\\left(\\frac{1}{x} - \\epsilon\\frac{x'}{x^2}\\right)\n",
    "    = \\frac{1}{x} - \\epsilon\\frac{x'}{x^2} + \\sin\\frac{1}{x}\n",
    "    - \\epsilon\\frac{x'}{x^2}\\cos\\frac{1}{x} \\\\\n",
    "    &= \\frac{1}{x} + \\sin\\frac{1}{x} \n",
    "    + \\epsilon\\left[-\\frac{x'}{x^2}\\left(1 + \\cos\\frac{1}{x}\\right)\\right]\\quad.\n",
    "\\end{align*}\n",
    "$$\n",
    "\n",
    "The dual part is our derivative,\n",
    "$$\n",
    "\\begin{align*}\n",
    "    \\boxed{f'(x) = - \\frac{1}{x^2}\\left(1 + \\cos\\frac{1}{x}\\right)}\\quad, \n",
    "\\end{align*}\n",
    "$$\n",
    "\n",
    "where $x' = \\text dx/\\text dx = 1$."
   ]
  },
  {
   "cell_type": "markdown",
   "metadata": {},
   "source": [
    "### Problem 3: Toy forward mode problem"
   ]
  },
  {
   "cell_type": "markdown",
   "metadata": {},
   "source": [
    "We want to perform AD on the function $f(x) = \\alpha x + 3$, so the addition and multiplication operators will need to be overloaded. The rules for addition remain the same (plus `__radd__` to maintain commutivity) but multiplication will follow the new rule:\n",
    "$$\n",
    "\\begin{align*}\n",
    "    a\\times b = (a_r + \\epsilon a_d)(b_r + \\epsilon b_d)\n",
    "    = a_rb_r + \\epsilon(a_rb_d + a_db_r)\\quad,\n",
    "\\end{align*}\n",
    "$$\n",
    "\n",
    "where $x_r$, $x_d$ is the real/dual part of dual number $x$, respectively, and $\\epsilon^2\\equiv 0$.\n",
    "\n",
    "Will also implement `__rmult__` to maintain multipication commutivity, and `try` and `except` blocks to handle possible `AttributeErrors` when calling our `AutoDiffToy` class."
   ]
  },
  {
   "cell_type": "code",
   "execution_count": 124,
   "metadata": {},
   "outputs": [
    {
     "name": "stdout",
     "output_type": "stream",
     "text": [
      "Test 0: 7.0 2.0\n",
      "Test 1: 7.0 2.0\n",
      "Test 2: 7.0 2.0\n",
      "Test 3: 7.0 2.0\n"
     ]
    }
   ],
   "source": [
    "class AutoDiffToy():\n",
    "    \n",
    "    def __init__(self, a):\n",
    "        # assumes f(x) = alpha*x + 3\n",
    "        self.val = a  # will return f(a)\n",
    "        self.der = 0 # will return f'(a)\n",
    "        \n",
    "    def __add__(self, other):\n",
    "        # assumes f AutoDiffToy object already created\n",
    "        try:\n",
    "            self.val += other.val\n",
    "        except AttributeError:\n",
    "            self.val += other\n",
    "        return self\n",
    "    __radd__ = __add__\n",
    "    \n",
    "    def __mul__(self, other):\n",
    "        f = AutoDiffToy(self.val)\n",
    "        try:\n",
    "            f.val = self.val*other.val\n",
    "            f.der = other.val\n",
    "        except AttributeError:\n",
    "            f.val = self.val*other\n",
    "            f.der = other\n",
    "        return f\n",
    "    __rmul__ = __mul__\n",
    "\n",
    "# configure object\n",
    "a = 2.0\n",
    "x = AutoDiffToy(a)\n",
    "\n",
    "alpha = 2.0\n",
    "\n",
    "# test runs, output should be: 7.0 2.0\n",
    "f_test = [alpha * x + 3.0,\n",
    "         x * alpha + 3.0,\n",
    "         3.0 + alpha * x,\n",
    "         3.0 + x * alpha]\n",
    "\n",
    "for i, test in enumerate(f_test):\n",
    "    f = test\n",
    "    print(f'Test {i}: {f.val} {f.der}')"
   ]
  },
  {
   "cell_type": "markdown",
   "metadata": {},
   "source": [
    "With these tests at least, it looks like the implementation of `AutoDiffToy` passes."
   ]
  },
  {
   "cell_type": "markdown",
   "metadata": {},
   "source": [
    "### Problem 4"
   ]
  },
  {
   "cell_type": "markdown",
   "metadata": {},
   "source": [
    "###### Writing functions to file"
   ]
  },
  {
   "cell_type": "code",
   "execution_count": 3,
   "metadata": {},
   "outputs": [
    {
     "name": "stdout",
     "output_type": "stream",
     "text": [
      "Overwriting cs207test/roots.py\n"
     ]
    }
   ],
   "source": [
    "%%file cs207test/roots.py\n",
    "def linear_roots(a=1.0, b=0.0):\n",
    "    \"\"\"Returns the roots of a linear equation: ax+ b = 0.\n",
    "    \n",
    "    INPUTS\n",
    "    =======\n",
    "    a: float, optional, default value is 1\n",
    "       Coefficient of linear term\n",
    "    b: float, optional, default value is 0\n",
    "       Coefficient of constant term\n",
    "    \n",
    "    RETURNS\n",
    "    ========\n",
    "    roots: 1-tuple of real floats\n",
    "       Has the form (root) unless a = 0 \n",
    "       in which case a ValueError exception is raised\n",
    "    \n",
    "    EXAMPLES\n",
    "    =========\n",
    "    >>> linear_roots(1.0, 2.0)\n",
    "    -2.0\n",
    "    \"\"\"\n",
    "    if a == 0:\n",
    "        raise ValueError(\"The linear coefficient is zero.  This is not a linear equation.\")\n",
    "    else:\n",
    "        return ((-b / a))\n",
    "    \n",
    "def quad_roots(a=1.0, b=2.0, c=0.0):\n",
    "    \"\"\"Returns the roots of a quadratic equation: ax^2 + bx + c = 0.\n",
    "    \n",
    "    INPUTS\n",
    "    =======\n",
    "    a: float, optional, default value is 1\n",
    "       Coefficient of quadratic term\n",
    "    b: float, optional, default value is 2\n",
    "       Coefficient of linear term\n",
    "    c: float, optional, default value is 0\n",
    "       Constant term\n",
    "    \n",
    "    RETURNS\n",
    "    ========\n",
    "    roots: 2-tuple of complex floats\n",
    "       Has the form (root1, root2) unless a = 0 \n",
    "       in which case a ValueError exception is raised\n",
    "    \n",
    "    EXAMPLES\n",
    "    =========\n",
    "    >>> quad_roots(1.0, 1.0, -12.0)\n",
    "    ((3+0j), (-4+0j))\n",
    "    \"\"\"\n",
    "    import cmath # Can return complex numbers from square roots\n",
    "    if a == 0:\n",
    "        raise ValueError(\"The quadratic coefficient is zero.  This is not a quadratic equation.\")\n",
    "    else:\n",
    "        sqrtdisc = cmath.sqrt(b * b - 4.0 * a * c)\n",
    "        r1 = -b + sqrtdisc\n",
    "        r2 = -b - sqrtdisc\n",
    "        twoa = 2.0 * a\n",
    "        return (r1 / twoa, r2 / twoa)"
   ]
  },
  {
   "cell_type": "markdown",
   "metadata": {},
   "source": [
    "###### Writing tests to file"
   ]
  },
  {
   "cell_type": "code",
   "execution_count": 8,
   "metadata": {},
   "outputs": [
    {
     "name": "stdout",
     "output_type": "stream",
     "text": [
      "Overwriting cs207test/test_roots.py\n"
     ]
    }
   ],
   "source": [
    "%%file cs207test/test_roots.py\n",
    "import pytest\n",
    "import roots\n",
    "\n",
    "def test_quadroots_result():\n",
    "    assert roots.quad_roots(1.0, 1.0, -12.0) == ((3+0j), (-4+0j))\n",
    "\n",
    "def test_quadroots_types():\n",
    "    with pytest.raises(TypeError):\n",
    "        roots.quad_roots(\"\", \"green\", \"hi\")\n",
    "\n",
    "def test_quadroots_zerocoeff():\n",
    "    with pytest.raises(ValueError):\n",
    "        roots.quad_roots(a=0.0)\n",
    "        \n",
    "def test_linearoots_result():\n",
    "    assert roots.linear_roots(2.0, -3.0) == 1.5\n",
    "\n",
    "def test_linearroots_types():\n",
    "    with pytest.raises(TypeError):\n",
    "        roots.linear_roots(\"ocean\", 6.0)\n",
    "\n",
    "def test_linearroots_zerocoeff():\n",
    "    with pytest.raises(ValueError):\n",
    "        roots.linear_roots(a=0.0)"
   ]
  },
  {
   "cell_type": "markdown",
   "metadata": {},
   "source": [
    "### Problem 5"
   ]
  },
  {
   "cell_type": "markdown",
   "metadata": {},
   "source": [
    "###### Set Travis CI instructions"
   ]
  },
  {
   "cell_type": "code",
   "execution_count": 5,
   "metadata": {},
   "outputs": [
    {
     "name": "stdout",
     "output_type": "stream",
     "text": [
      "Writing cs207test/.travis.yml\n"
     ]
    }
   ],
   "source": [
    "%%file cs207test/.travis.yml\n",
    "yml\n",
    "language: python\n",
    "python:\n",
    "    - \"3.6\"\n",
    "before_install:\n",
    "    - pip install pytest pytest-cov\n",
    "script:\n",
    "    - pytest"
   ]
  },
  {
   "cell_type": "markdown",
   "metadata": {},
   "source": [
    "###### Add configuration file for `pytest`"
   ]
  },
  {
   "cell_type": "code",
   "execution_count": 7,
   "metadata": {},
   "outputs": [
    {
     "name": "stdout",
     "output_type": "stream",
     "text": [
      "Writing cs207test/setup.cfg\n"
     ]
    }
   ],
   "source": [
    "%%file cs207test/setup.cfg\n",
    "[tool:pytest]\n",
    "addopts = --doctest-modules --cov-report term-missing --cov roots"
   ]
  },
  {
   "cell_type": "markdown",
   "metadata": {},
   "source": [
    "### Problem 6"
   ]
  },
  {
   "cell_type": "markdown",
   "metadata": {},
   "source": [
    "[Link to test Github repo](https://github.com/icweaver/cs207test)"
   ]
  }
 ],
 "metadata": {
  "kernelspec": {
   "display_name": "Python 3",
   "language": "python",
   "name": "python3"
  },
  "language_info": {
   "codemirror_mode": {
    "name": "ipython",
    "version": 3
   },
   "file_extension": ".py",
   "mimetype": "text/x-python",
   "name": "python",
   "nbconvert_exporter": "python",
   "pygments_lexer": "ipython3",
   "version": "3.6.5"
  },
  "toc": {
   "colors": {
    "hover_highlight": "#DAA520",
    "navigate_num": "#fc151b",
    "navigate_text": "#92a2be",
    "running_highlight": "#FF0000",
    "selected_highlight": "#FFD700",
    "sidebar_border": "#EEEEEE",
    "wrapper_background": "#FFFFFF"
   },
   "moveMenuLeft": true,
   "nav_menu": {
    "height": "189px",
    "width": "651px"
   },
   "navigate_menu": true,
   "number_sections": false,
   "sideBar": true,
   "threshold": 4,
   "toc_cell": false,
   "toc_section_display": "block",
   "toc_window_display": false,
   "widenNotebook": false
  }
 },
 "nbformat": 4,
 "nbformat_minor": 2
}
