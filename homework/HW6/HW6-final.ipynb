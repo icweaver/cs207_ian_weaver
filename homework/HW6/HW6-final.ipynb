{
 "cells": [
  {
   "cell_type": "markdown",
   "metadata": {},
   "source": [
    "# Part 1: BST Traversal"
   ]
  },
  {
   "cell_type": "markdown",
   "metadata": {},
   "source": [
    "## Problem 1"
   ]
  },
  {
   "cell_type": "code",
   "execution_count": 98,
   "metadata": {},
   "outputs": [],
   "source": [
    "from enum import Enum\n",
    "from TreeTraversal import BinaryTree, DFSTraversal\n",
    "\n",
    "class DFSTraversalTypes(Enum):\n",
    "    PREORDER = 1\n",
    "    INORDER = 2\n",
    "    POSTORDER = 3\n",
    " "
   ]
  },
  {
   "cell_type": "markdown",
   "metadata": {},
   "source": [
    "### Demo"
   ]
  },
  {
   "cell_type": "code",
   "execution_count": 109,
   "metadata": {
    "scrolled": true
   },
   "outputs": [
    {
     "name": "stdout",
     "output_type": "stream",
     "text": [
      "inorder\n",
      "2\n",
      "3\n",
      "9\n",
      "11\n",
      "\n",
      "preorder\n",
      "3\n",
      "2\n",
      "9\n",
      "11\n",
      "\n",
      "postorder\n",
      "2\n",
      "11\n",
      "9\n",
      "3\n",
      "\n",
      "switch from postorder back to inorder\n",
      "2\n",
      "3\n",
      "9\n",
      "11\n"
     ]
    }
   ],
   "source": [
    "# fill in tree\n",
    "input_array = [3, 9, 2, 11]\n",
    "bt = BinaryTree() \n",
    "for val in input_array:\n",
    "    bt.insert(val)\n",
    "\n",
    "# inorder\n",
    "print('inorder')\n",
    "traversal = DFSTraversal(bt, DFSTraversalTypes.INORDER) \n",
    "for val in traversal: \n",
    "    print(val)\n",
    "        \n",
    "# preorder\n",
    "print('\\npreorder')\n",
    "traversal = DFSTraversal(bt, DFSTraversalTypes.PREORDER)\n",
    "for val in traversal: \n",
    "    print(val)\n",
    "    \n",
    "# postorder\n",
    "print('\\npostorder')\n",
    "traversal = DFSTraversal(bt, DFSTraversalTypes.POSTORDER) \n",
    "for val in traversal: \n",
    "    print(val)\n",
    "    \n",
    "# back to inorder\n",
    "print('\\nswitch from postorder back to inorder')\n",
    "traversal = DFSTraversal(bt, DFSTraversalTypes.POSTORDER) \n",
    "traversal.changeTraversalType(DFSTraversalTypes.INORDER)\n",
    "for val in traversal: \n",
    "    print(val)"
   ]
  },
  {
   "cell_type": "markdown",
   "metadata": {},
   "source": [
    "# Part 2: Iterators"
   ]
  },
  {
   "cell_type": "code",
   "execution_count": 270,
   "metadata": {},
   "outputs": [],
   "source": [
    "import numpy as np\n",
    "import random\n",
    "\n",
    "class Markov:\n",
    "    def __init__(self, first_day):\n",
    "        self.data = None\n",
    "        self.previous_day = first_day\n",
    "        self.weather = {\n",
    "            'sunny': 0,\n",
    "            'cloudy': 1,\n",
    "            'rainy': 2,\n",
    "            'snowy': 3,\n",
    "            'windy': 4,\n",
    "            'hailing': 5\n",
    "        }\n",
    "\n",
    "    def load_data(self, array):\n",
    "        self.data = array\n",
    "        self.idx = 0\n",
    "\n",
    "    def get_prob(self, previous_day, following_day):\n",
    "        before_idx = self.weather[previous_day]\n",
    "        after_idx = self.weather[following_day]\n",
    "\n",
    "        try:\n",
    "            prob = self.data[before_idx][after_idx]\n",
    "            return prob\n",
    "        except TypeError: # catch if no data file loaded\n",
    "            error_msg = 'please load data file first with load_data method'\n",
    "            return error_msg\n",
    "\n",
    "    def __iter__(self):\n",
    "        return self\n",
    "\n",
    "    def __next__(self): \n",
    "        try:\n",
    "            next_day_prob = []\n",
    "            for next_day in self.weather:\n",
    "                print(next_day)\n",
    "                next_day_prob.append(self.get_prob(self.previous_day, next_day))\n",
    "            result = next_day_prob[self.idx]\n",
    "        except IndentationError:\n",
    "            raise StopIteration\n",
    "        self.idx += 1"
   ]
  },
  {
   "cell_type": "code",
   "execution_count": 272,
   "metadata": {},
   "outputs": [],
   "source": [
    "x = Markov('sunny')\n",
    "weather = np.genfromtxt('weather.csv', delimiter=',')\n",
    "x.load_data(weather)"
   ]
  }
 ],
 "metadata": {
  "kernelspec": {
   "display_name": "Python 3",
   "language": "python",
   "name": "python3"
  },
  "language_info": {
   "codemirror_mode": {
    "name": "ipython",
    "version": 3
   },
   "file_extension": ".py",
   "mimetype": "text/x-python",
   "name": "python",
   "nbconvert_exporter": "python",
   "pygments_lexer": "ipython3",
   "version": "3.6.5"
  },
  "toc": {
   "colors": {
    "hover_highlight": "#DAA520",
    "navigate_num": "#fc151b",
    "navigate_text": "#92a2be",
    "running_highlight": "#FF0000",
    "selected_highlight": "#FFD700",
    "sidebar_border": "#EEEEEE",
    "wrapper_background": "#FFFFFF"
   },
   "moveMenuLeft": true,
   "nav_menu": {
    "height": "36px",
    "width": "250px"
   },
   "navigate_menu": true,
   "number_sections": false,
   "sideBar": true,
   "threshold": 4,
   "toc_cell": false,
   "toc_section_display": "block",
   "toc_window_display": false,
   "widenNotebook": false
  }
 },
 "nbformat": 4,
 "nbformat_minor": 2
}
